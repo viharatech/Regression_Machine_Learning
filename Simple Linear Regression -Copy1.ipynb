{
 "cells": [
  {
   "cell_type": "markdown",
   "id": "214f9380",
   "metadata": {},
   "source": [
    "## Import Packages \n"
   ]
  },
  {
   "cell_type": "code",
   "execution_count": 1,
   "id": "ce7909b8",
   "metadata": {},
   "outputs": [],
   "source": [
    "import os\n",
    "import math\n",
    "import numpy as np \n",
    "import pandas as pd \n",
    "import matplotlib.pyplot as plt "
   ]
  },
  {
   "cell_type": "markdown",
   "id": "9177abc2",
   "metadata": {},
   "source": [
    "## Load The data "
   ]
  },
  {
   "cell_type": "code",
   "execution_count": 2,
   "id": "c6ec3d84",
   "metadata": {},
   "outputs": [],
   "source": [
    "df = pd.read_csv('./Salary_Data.csv')\n"
   ]
  },
  {
   "cell_type": "code",
   "execution_count": 3,
   "id": "c94f41c8",
   "metadata": {},
   "outputs": [
    {
     "data": {
      "text/html": [
       "<div>\n",
       "<style scoped>\n",
       "    .dataframe tbody tr th:only-of-type {\n",
       "        vertical-align: middle;\n",
       "    }\n",
       "\n",
       "    .dataframe tbody tr th {\n",
       "        vertical-align: top;\n",
       "    }\n",
       "\n",
       "    .dataframe thead th {\n",
       "        text-align: right;\n",
       "    }\n",
       "</style>\n",
       "<table border=\"1\" class=\"dataframe\">\n",
       "  <thead>\n",
       "    <tr style=\"text-align: right;\">\n",
       "      <th></th>\n",
       "      <th>YearsExperience</th>\n",
       "      <th>Salary</th>\n",
       "    </tr>\n",
       "  </thead>\n",
       "  <tbody>\n",
       "    <tr>\n",
       "      <th>0</th>\n",
       "      <td>1.1</td>\n",
       "      <td>39343.0</td>\n",
       "    </tr>\n",
       "    <tr>\n",
       "      <th>1</th>\n",
       "      <td>1.3</td>\n",
       "      <td>46205.0</td>\n",
       "    </tr>\n",
       "    <tr>\n",
       "      <th>2</th>\n",
       "      <td>1.5</td>\n",
       "      <td>37731.0</td>\n",
       "    </tr>\n",
       "    <tr>\n",
       "      <th>3</th>\n",
       "      <td>2.0</td>\n",
       "      <td>43525.0</td>\n",
       "    </tr>\n",
       "    <tr>\n",
       "      <th>4</th>\n",
       "      <td>2.2</td>\n",
       "      <td>39891.0</td>\n",
       "    </tr>\n",
       "  </tbody>\n",
       "</table>\n",
       "</div>"
      ],
      "text/plain": [
       "   YearsExperience   Salary\n",
       "0              1.1  39343.0\n",
       "1              1.3  46205.0\n",
       "2              1.5  37731.0\n",
       "3              2.0  43525.0\n",
       "4              2.2  39891.0"
      ]
     },
     "execution_count": 3,
     "metadata": {},
     "output_type": "execute_result"
    }
   ],
   "source": [
    "df.head()"
   ]
  },
  {
   "cell_type": "code",
   "execution_count": 4,
   "id": "ffdf920d",
   "metadata": {},
   "outputs": [
    {
     "name": "stdout",
     "output_type": "stream",
     "text": [
      "<class 'pandas.core.frame.DataFrame'>\n",
      "RangeIndex: 30 entries, 0 to 29\n",
      "Data columns (total 2 columns):\n",
      " #   Column           Non-Null Count  Dtype  \n",
      "---  ------           --------------  -----  \n",
      " 0   YearsExperience  30 non-null     float64\n",
      " 1   Salary           30 non-null     float64\n",
      "dtypes: float64(2)\n",
      "memory usage: 608.0 bytes\n"
     ]
    }
   ],
   "source": [
    "df.info()   # finding the information "
   ]
  },
  {
   "cell_type": "code",
   "execution_count": 5,
   "id": "97bc37de",
   "metadata": {},
   "outputs": [
    {
     "data": {
      "text/plain": [
       "YearsExperience    0\n",
       "Salary             0\n",
       "dtype: int64"
      ]
     },
     "execution_count": 5,
     "metadata": {},
     "output_type": "execute_result"
    }
   ],
   "source": [
    "# finding the null values\n",
    "\n",
    "df.isnull().sum()"
   ]
  },
  {
   "cell_type": "markdown",
   "id": "9f6aa8c0",
   "metadata": {},
   "source": [
    "## Complete data Visualization "
   ]
  },
  {
   "cell_type": "code",
   "execution_count": 6,
   "id": "87413368",
   "metadata": {},
   "outputs": [
    {
     "data": {
      "image/png": "[encoded data removed]",
      "text/plain": [
       "<Figure size 432x288 with 1 Axes>"
      ]
     },
     "metadata": {
      "needs_background": "light"
     },
     "output_type": "display_data"
    }
   ],
   "source": [
    "plt.title('Simple Linear Regression')\n",
    "plt.xlabel('years of experience')\n",
    "plt.ylabel('Salary')\n",
    "plt.scatter(df['YearsExperience'] , df['Salary'] , color = 'r' , marker='*')\n",
    "plt.show()"
   ]
  },
  {
   "cell_type": "code",
   "execution_count": 7,
   "id": "561b0011",
   "metadata": {},
   "outputs": [
    {
     "data": {
      "text/plain": [
       "30"
      ]
     },
     "execution_count": 7,
     "metadata": {},
     "output_type": "execute_result"
    }
   ],
   "source": [
    "len(df)"
   ]
  },
  {
   "cell_type": "code",
   "execution_count": 8,
   "id": "bb750d9e",
   "metadata": {},
   "outputs": [
    {
     "data": {
      "text/html": [
       "<div>\n",
       "<style scoped>\n",
       "    .dataframe tbody tr th:only-of-type {\n",
       "        vertical-align: middle;\n",
       "    }\n",
       "\n",
       "    .dataframe tbody tr th {\n",
       "        vertical-align: top;\n",
       "    }\n",
       "\n",
       "    .dataframe thead th {\n",
       "        text-align: right;\n",
       "    }\n",
       "</style>\n",
       "<table border=\"1\" class=\"dataframe\">\n",
       "  <thead>\n",
       "    <tr style=\"text-align: right;\">\n",
       "      <th></th>\n",
       "      <th>YearsExperience</th>\n",
       "      <th>Salary</th>\n",
       "    </tr>\n",
       "  </thead>\n",
       "  <tbody>\n",
       "    <tr>\n",
       "      <th>0</th>\n",
       "      <td>1.1</td>\n",
       "      <td>39343.0</td>\n",
       "    </tr>\n",
       "    <tr>\n",
       "      <th>1</th>\n",
       "      <td>1.3</td>\n",
       "      <td>46205.0</td>\n",
       "    </tr>\n",
       "    <tr>\n",
       "      <th>2</th>\n",
       "      <td>1.5</td>\n",
       "      <td>37731.0</td>\n",
       "    </tr>\n",
       "    <tr>\n",
       "      <th>3</th>\n",
       "      <td>2.0</td>\n",
       "      <td>43525.0</td>\n",
       "    </tr>\n",
       "    <tr>\n",
       "      <th>4</th>\n",
       "      <td>2.2</td>\n",
       "      <td>39891.0</td>\n",
       "    </tr>\n",
       "    <tr>\n",
       "      <th>5</th>\n",
       "      <td>2.9</td>\n",
       "      <td>56642.0</td>\n",
       "    </tr>\n",
       "    <tr>\n",
       "      <th>6</th>\n",
       "      <td>3.0</td>\n",
       "      <td>60150.0</td>\n",
       "    </tr>\n",
       "    <tr>\n",
       "      <th>7</th>\n",
       "      <td>3.2</td>\n",
       "      <td>54445.0</td>\n",
       "    </tr>\n",
       "    <tr>\n",
       "      <th>8</th>\n",
       "      <td>3.2</td>\n",
       "      <td>64445.0</td>\n",
       "    </tr>\n",
       "    <tr>\n",
       "      <th>9</th>\n",
       "      <td>3.7</td>\n",
       "      <td>57189.0</td>\n",
       "    </tr>\n",
       "    <tr>\n",
       "      <th>10</th>\n",
       "      <td>3.9</td>\n",
       "      <td>63218.0</td>\n",
       "    </tr>\n",
       "    <tr>\n",
       "      <th>11</th>\n",
       "      <td>4.0</td>\n",
       "      <td>55794.0</td>\n",
       "    </tr>\n",
       "    <tr>\n",
       "      <th>12</th>\n",
       "      <td>4.0</td>\n",
       "      <td>56957.0</td>\n",
       "    </tr>\n",
       "    <tr>\n",
       "      <th>13</th>\n",
       "      <td>4.1</td>\n",
       "      <td>57081.0</td>\n",
       "    </tr>\n",
       "    <tr>\n",
       "      <th>14</th>\n",
       "      <td>4.5</td>\n",
       "      <td>61111.0</td>\n",
       "    </tr>\n",
       "    <tr>\n",
       "      <th>15</th>\n",
       "      <td>4.9</td>\n",
       "      <td>67938.0</td>\n",
       "    </tr>\n",
       "    <tr>\n",
       "      <th>16</th>\n",
       "      <td>5.1</td>\n",
       "      <td>66029.0</td>\n",
       "    </tr>\n",
       "    <tr>\n",
       "      <th>17</th>\n",
       "      <td>5.3</td>\n",
       "      <td>83088.0</td>\n",
       "    </tr>\n",
       "    <tr>\n",
       "      <th>18</th>\n",
       "      <td>5.9</td>\n",
       "      <td>81363.0</td>\n",
       "    </tr>\n",
       "    <tr>\n",
       "      <th>19</th>\n",
       "      <td>6.0</td>\n",
       "      <td>93940.0</td>\n",
       "    </tr>\n",
       "    <tr>\n",
       "      <th>20</th>\n",
       "      <td>6.8</td>\n",
       "      <td>91738.0</td>\n",
       "    </tr>\n",
       "    <tr>\n",
       "      <th>21</th>\n",
       "      <td>7.1</td>\n",
       "      <td>98273.0</td>\n",
       "    </tr>\n",
       "    <tr>\n",
       "      <th>22</th>\n",
       "      <td>7.9</td>\n",
       "      <td>101302.0</td>\n",
       "    </tr>\n",
       "    <tr>\n",
       "      <th>23</th>\n",
       "      <td>8.2</td>\n",
       "      <td>113812.0</td>\n",
       "    </tr>\n",
       "    <tr>\n",
       "      <th>24</th>\n",
       "      <td>8.7</td>\n",
       "      <td>109431.0</td>\n",
       "    </tr>\n",
       "    <tr>\n",
       "      <th>25</th>\n",
       "      <td>9.0</td>\n",
       "      <td>105582.0</td>\n",
       "    </tr>\n",
       "    <tr>\n",
       "      <th>26</th>\n",
       "      <td>9.5</td>\n",
       "      <td>116969.0</td>\n",
       "    </tr>\n",
       "    <tr>\n",
       "      <th>27</th>\n",
       "      <td>9.6</td>\n",
       "      <td>112635.0</td>\n",
       "    </tr>\n",
       "    <tr>\n",
       "      <th>28</th>\n",
       "      <td>10.3</td>\n",
       "      <td>122391.0</td>\n",
       "    </tr>\n",
       "    <tr>\n",
       "      <th>29</th>\n",
       "      <td>10.5</td>\n",
       "      <td>121872.0</td>\n",
       "    </tr>\n",
       "  </tbody>\n",
       "</table>\n",
       "</div>"
      ],
      "text/plain": [
       "    YearsExperience    Salary\n",
       "0               1.1   39343.0\n",
       "1               1.3   46205.0\n",
       "2               1.5   37731.0\n",
       "3               2.0   43525.0\n",
       "4               2.2   39891.0\n",
       "5               2.9   56642.0\n",
       "6               3.0   60150.0\n",
       "7               3.2   54445.0\n",
       "8               3.2   64445.0\n",
       "9               3.7   57189.0\n",
       "10              3.9   63218.0\n",
       "11              4.0   55794.0\n",
       "12              4.0   56957.0\n",
       "13              4.1   57081.0\n",
       "14              4.5   61111.0\n",
       "15              4.9   67938.0\n",
       "16              5.1   66029.0\n",
       "17              5.3   83088.0\n",
       "18              5.9   81363.0\n",
       "19              6.0   93940.0\n",
       "20              6.8   91738.0\n",
       "21              7.1   98273.0\n",
       "22              7.9  101302.0\n",
       "23              8.2  113812.0\n",
       "24              8.7  109431.0\n",
       "25              9.0  105582.0\n",
       "26              9.5  116969.0\n",
       "27              9.6  112635.0\n",
       "28             10.3  122391.0\n",
       "29             10.5  121872.0"
      ]
     },
     "execution_count": 8,
     "metadata": {},
     "output_type": "execute_result"
    }
   ],
   "source": [
    "df"
   ]
  },
  {
   "cell_type": "code",
   "execution_count": 9,
   "id": "bf83a43d",
   "metadata": {},
   "outputs": [],
   "source": [
    "## Represent Independent varriables with x and dependent variables with y "
   ]
  },
  {
   "cell_type": "code",
   "execution_count": 10,
   "id": "b788b6e9",
   "metadata": {},
   "outputs": [
    {
     "name": "stdout",
     "output_type": "stream",
     "text": [
      "12\n"
     ]
    }
   ],
   "source": [
    "# Scalar \n",
    "\n",
    "a = 12\n",
    "print(a)"
   ]
  },
  {
   "cell_type": "code",
   "execution_count": 11,
   "id": "cda97767",
   "metadata": {},
   "outputs": [
    {
     "name": "stdout",
     "output_type": "stream",
     "text": [
      "1\n",
      "(4,)\n"
     ]
    }
   ],
   "source": [
    "# Vector \n",
    "\n",
    "a = np.array([1,2,3,5])\n",
    "print(a.ndim)\n",
    "print(a.shape)"
   ]
  },
  {
   "cell_type": "code",
   "execution_count": 12,
   "id": "85c42a8f",
   "metadata": {},
   "outputs": [
    {
     "name": "stdout",
     "output_type": "stream",
     "text": [
      "[21 22 23 24 25 26 27 28 29 30]\n",
      "(10,)\n",
      "1\n"
     ]
    }
   ],
   "source": [
    "ar = np.arange(21,31)\n",
    "print(ar)\n",
    "print(ar.shape)\n",
    "print(ar.ndim)"
   ]
  },
  {
   "cell_type": "code",
   "execution_count": 13,
   "id": "a2af698c",
   "metadata": {},
   "outputs": [
    {
     "data": {
      "text/plain": [
       "array([[21],\n",
       "       [22],\n",
       "       [23],\n",
       "       [24],\n",
       "       [25],\n",
       "       [26],\n",
       "       [27],\n",
       "       [28],\n",
       "       [29],\n",
       "       [30]])"
      ]
     },
     "execution_count": 13,
     "metadata": {},
     "output_type": "execute_result"
    }
   ],
   "source": [
    "ar = ar.reshape(-1 , 1)  # reshape(rows , columns)-> (1-dim , -1-> identity)\n",
    "ar"
   ]
  },
  {
   "cell_type": "code",
   "execution_count": 14,
   "id": "e970ecc6",
   "metadata": {},
   "outputs": [
    {
     "data": {
      "text/plain": [
       "array([[21, 22, 23, 24, 25, 26, 27, 28, 29, 30]])"
      ]
     },
     "execution_count": 14,
     "metadata": {},
     "output_type": "execute_result"
    }
   ],
   "source": [
    "ar = ar.reshape(1 , -1)  # reshape(rows , columns)-> (1-dim , -1-> identity)\n",
    "ar"
   ]
  },
  {
   "cell_type": "code",
   "execution_count": 15,
   "id": "ccbde8b3",
   "metadata": {},
   "outputs": [
    {
     "name": "stdout",
     "output_type": "stream",
     "text": [
      "(1, 10)\n"
     ]
    }
   ],
   "source": [
    "print(ar.shape)"
   ]
  },
  {
   "cell_type": "code",
   "execution_count": 16,
   "id": "9a3e6e22",
   "metadata": {},
   "outputs": [
    {
     "data": {
      "text/plain": [
       "(30,)"
      ]
     },
     "execution_count": 16,
     "metadata": {},
     "output_type": "execute_result"
    }
   ],
   "source": [
    "df['YearsExperience'].shape "
   ]
  },
  {
   "cell_type": "code",
   "execution_count": 17,
   "id": "cee18466",
   "metadata": {},
   "outputs": [],
   "source": [
    "X = df['YearsExperience']  # Independent \n",
    "y = df['Salary']         # Dependent "
   ]
  },
  {
   "cell_type": "code",
   "execution_count": 18,
   "id": "d95f006c",
   "metadata": {},
   "outputs": [
    {
     "data": {
      "text/plain": [
       "array([[ 1.1],\n",
       "       [ 1.3],\n",
       "       [ 1.5],\n",
       "       [ 2. ],\n",
       "       [ 2.2],\n",
       "       [ 2.9],\n",
       "       [ 3. ],\n",
       "       [ 3.2],\n",
       "       [ 3.2],\n",
       "       [ 3.7],\n",
       "       [ 3.9],\n",
       "       [ 4. ],\n",
       "       [ 4. ],\n",
       "       [ 4.1],\n",
       "       [ 4.5],\n",
       "       [ 4.9],\n",
       "       [ 5.1],\n",
       "       [ 5.3],\n",
       "       [ 5.9],\n",
       "       [ 6. ],\n",
       "       [ 6.8],\n",
       "       [ 7.1],\n",
       "       [ 7.9],\n",
       "       [ 8.2],\n",
       "       [ 8.7],\n",
       "       [ 9. ],\n",
       "       [ 9.5],\n",
       "       [ 9.6],\n",
       "       [10.3],\n",
       "       [10.5]])"
      ]
     },
     "execution_count": 18,
     "metadata": {},
     "output_type": "execute_result"
    }
   ],
   "source": [
    "X = X.values.reshape(-1,1)\n",
    "X"
   ]
  },
  {
   "cell_type": "markdown",
   "id": "eeec271e",
   "metadata": {},
   "source": [
    "## Spliting the data into train and test "
   ]
  },
  {
   "cell_type": "code",
   "execution_count": 19,
   "id": "aa207bc6",
   "metadata": {},
   "outputs": [],
   "source": [
    "# import sklearn -> scikit learn "
   ]
  },
  {
   "cell_type": "code",
   "execution_count": 20,
   "id": "dee409c8",
   "metadata": {},
   "outputs": [
    {
     "name": "stderr",
     "output_type": "stream",
     "text": [
      "C:\\Users\\korla\\anaconda3\\envs\\cpu\\lib\\site-packages\\scipy\\__init__.py:146: UserWarning: A NumPy version >=1.16.5 and <1.23.0 is required for this version of SciPy (detected version 1.23.5\n",
      "  warnings.warn(f\"A NumPy version >={np_minversion} and <{np_maxversion}\"\n"
     ]
    }
   ],
   "source": [
    "import sklearn "
   ]
  },
  {
   "cell_type": "code",
   "execution_count": 21,
   "id": "206fc838",
   "metadata": {},
   "outputs": [],
   "source": [
    "# for spliting the data sklearn providing a method called train_test_split "
   ]
  },
  {
   "cell_type": "code",
   "execution_count": 22,
   "id": "c10fe353",
   "metadata": {},
   "outputs": [],
   "source": [
    "from sklearn.model_selection import train_test_split"
   ]
  },
  {
   "cell_type": "code",
   "execution_count": 23,
   "id": "0bfc0532",
   "metadata": {},
   "outputs": [],
   "source": [
    "X_train , X_test , y_train , y_test = train_test_split(X , y , test_size=0.33 ,random_state=10)"
   ]
  },
  {
   "cell_type": "code",
   "execution_count": 24,
   "id": "44bbff82",
   "metadata": {},
   "outputs": [
    {
     "data": {
      "text/plain": [
       "array([[ 6. ],\n",
       "       [ 4.5],\n",
       "       [ 5.9],\n",
       "       [ 3. ],\n",
       "       [ 4. ],\n",
       "       [ 8.2],\n",
       "       [ 8.7],\n",
       "       [10.3],\n",
       "       [ 7.9],\n",
       "       [ 3.9],\n",
       "       [ 9.5],\n",
       "       [10.5],\n",
       "       [ 3.2],\n",
       "       [ 9. ],\n",
       "       [ 5.1],\n",
       "       [ 5.3],\n",
       "       [ 1.1],\n",
       "       [ 4.9],\n",
       "       [ 2.2],\n",
       "       [ 3.7]])"
      ]
     },
     "execution_count": 24,
     "metadata": {},
     "output_type": "execute_result"
    }
   ],
   "source": [
    "X_train"
   ]
  },
  {
   "cell_type": "code",
   "execution_count": 25,
   "id": "b8d9ddcf",
   "metadata": {},
   "outputs": [
    {
     "data": {
      "text/plain": [
       "19     93940.0\n",
       "14     61111.0\n",
       "18     81363.0\n",
       "6      60150.0\n",
       "11     55794.0\n",
       "23    113812.0\n",
       "24    109431.0\n",
       "28    122391.0\n",
       "22    101302.0\n",
       "10     63218.0\n",
       "26    116969.0\n",
       "29    121872.0\n",
       "8      64445.0\n",
       "25    105582.0\n",
       "16     66029.0\n",
       "17     83088.0\n",
       "0      39343.0\n",
       "15     67938.0\n",
       "4      39891.0\n",
       "9      57189.0\n",
       "Name: Salary, dtype: float64"
      ]
     },
     "execution_count": 25,
     "metadata": {},
     "output_type": "execute_result"
    }
   ],
   "source": [
    "y_train"
   ]
  },
  {
   "cell_type": "code",
   "execution_count": 26,
   "id": "04ed91aa",
   "metadata": {},
   "outputs": [
    {
     "data": {
      "text/plain": [
       "(20, 20)"
      ]
     },
     "execution_count": 26,
     "metadata": {},
     "output_type": "execute_result"
    }
   ],
   "source": [
    "len(X_train) , len(y_train)"
   ]
  },
  {
   "cell_type": "markdown",
   "id": "f25582e1",
   "metadata": {},
   "source": [
    "## Plot Training data"
   ]
  },
  {
   "cell_type": "code",
   "execution_count": 27,
   "id": "eac785dd",
   "metadata": {},
   "outputs": [
    {
     "data": {
      "image/png": "[encoded data removed]",
      "text/plain": [
       "<Figure size 432x288 with 1 Axes>"
      ]
     },
     "metadata": {
      "needs_background": "light"
     },
     "output_type": "display_data"
    }
   ],
   "source": [
    "plt.title('Simple Linear Regression')\n",
    "plt.xlabel('X_train')\n",
    "plt.ylabel('y_train')\n",
    "plt.scatter(X_train, y_train , color = 'r' , marker='*')\n",
    "plt.show()"
   ]
  },
  {
   "cell_type": "markdown",
   "id": "797b62e7",
   "metadata": {},
   "source": [
    "## Feeding to the Algorithm"
   ]
  },
  {
   "cell_type": "code",
   "execution_count": 28,
   "id": "2d994d08",
   "metadata": {},
   "outputs": [],
   "source": [
    "# Simple Linear Regression y = mx + c"
   ]
  },
  {
   "cell_type": "code",
   "execution_count": 29,
   "id": "83d02487",
   "metadata": {},
   "outputs": [],
   "source": [
    "from sklearn.linear_model import LinearRegression "
   ]
  },
  {
   "cell_type": "code",
   "execution_count": 30,
   "id": "74198a91",
   "metadata": {},
   "outputs": [],
   "source": [
    "reg = LinearRegression()"
   ]
  },
  {
   "cell_type": "code",
   "execution_count": 31,
   "id": "37ff11ae",
   "metadata": {},
   "outputs": [],
   "source": [
    "# reg is nothing but Linear regression "
   ]
  },
  {
   "cell_type": "code",
   "execution_count": 32,
   "id": "3c960c0e",
   "metadata": {},
   "outputs": [
    {
     "data": {
      "text/plain": [
       "LinearRegression()"
      ]
     },
     "execution_count": 32,
     "metadata": {},
     "output_type": "execute_result"
    }
   ],
   "source": [
    "# Giving data to y = mx + c\n",
    "\n",
    "\n",
    "reg.fit(X_train , y_train)"
   ]
  },
  {
   "cell_type": "code",
   "execution_count": 33,
   "id": "3c62a0a5",
   "metadata": {},
   "outputs": [],
   "source": [
    "# m and c "
   ]
  },
  {
   "cell_type": "code",
   "execution_count": 34,
   "id": "fdb04d39",
   "metadata": {},
   "outputs": [
    {
     "data": {
      "text/plain": [
       "array([9514.52350354])"
      ]
     },
     "execution_count": 34,
     "metadata": {},
     "output_type": "execute_result"
    }
   ],
   "source": [
    "# coef \n",
    "reg.coef_"
   ]
  },
  {
   "cell_type": "code",
   "execution_count": 35,
   "id": "9669d4e9",
   "metadata": {},
   "outputs": [
    {
     "data": {
      "text/plain": [
       "25630.510121837848"
      ]
     },
     "execution_count": 35,
     "metadata": {},
     "output_type": "execute_result"
    }
   ],
   "source": [
    "# intercept \n",
    "reg.intercept_"
   ]
  },
  {
   "cell_type": "code",
   "execution_count": 36,
   "id": "9bf3763d",
   "metadata": {},
   "outputs": [],
   "source": [
    "# y = mx + c ---> model =  y = 9514.52350354 * x + 25630.510121837848"
   ]
  },
  {
   "cell_type": "markdown",
   "id": "069480f3",
   "metadata": {},
   "source": [
    "## y = 9514.52350354 * x + 25630.510121837848  is our Model to do predictions "
   ]
  },
  {
   "cell_type": "code",
   "execution_count": 37,
   "id": "9dd58ee4",
   "metadata": {},
   "outputs": [],
   "source": [
    "## checking performance of training data "
   ]
  },
  {
   "cell_type": "code",
   "execution_count": 38,
   "id": "4b880b05",
   "metadata": {},
   "outputs": [],
   "source": [
    "y_train_predictions =reg.predict(X_train)"
   ]
  },
  {
   "cell_type": "code",
   "execution_count": 39,
   "id": "75f3d448",
   "metadata": {},
   "outputs": [
    {
     "data": {
      "text/plain": [
       "array([ 82717.65114305,  68445.86588775,  81766.19879269,  54174.08063244,\n",
       "        63688.60413598, 103649.60285082, 108406.86460259, 123630.10220825,\n",
       "       100795.24579976,  62737.15178562, 116018.48340542, 125533.00690896,\n",
       "        56076.98533315, 111261.22165365,  74154.57998987,  76057.48469057,\n",
       "        36096.48597573,  72251.67528916,  46562.46182961,  60834.24708492])"
      ]
     },
     "execution_count": 39,
     "metadata": {},
     "output_type": "execute_result"
    }
   ],
   "source": [
    "y_train_predictions"
   ]
  },
  {
   "cell_type": "code",
   "execution_count": 40,
   "id": "09e21ffb",
   "metadata": {},
   "outputs": [
    {
     "data": {
      "text/plain": [
       "19     93940.0\n",
       "14     61111.0\n",
       "18     81363.0\n",
       "6      60150.0\n",
       "11     55794.0\n",
       "23    113812.0\n",
       "24    109431.0\n",
       "28    122391.0\n",
       "22    101302.0\n",
       "10     63218.0\n",
       "26    116969.0\n",
       "29    121872.0\n",
       "8      64445.0\n",
       "25    105582.0\n",
       "16     66029.0\n",
       "17     83088.0\n",
       "0      39343.0\n",
       "15     67938.0\n",
       "4      39891.0\n",
       "9      57189.0\n",
       "Name: Salary, dtype: float64"
      ]
     },
     "execution_count": 40,
     "metadata": {},
     "output_type": "execute_result"
    }
   ],
   "source": [
    "y_train"
   ]
  },
  {
   "cell_type": "code",
   "execution_count": 41,
   "id": "f72c2076",
   "metadata": {},
   "outputs": [
    {
     "data": {
      "text/plain": [
       "array([[ 6. ],\n",
       "       [ 4.5],\n",
       "       [ 5.9],\n",
       "       [ 3. ],\n",
       "       [ 4. ],\n",
       "       [ 8.2],\n",
       "       [ 8.7],\n",
       "       [10.3],\n",
       "       [ 7.9],\n",
       "       [ 3.9],\n",
       "       [ 9.5],\n",
       "       [10.5],\n",
       "       [ 3.2],\n",
       "       [ 9. ],\n",
       "       [ 5.1],\n",
       "       [ 5.3],\n",
       "       [ 1.1],\n",
       "       [ 4.9],\n",
       "       [ 2.2],\n",
       "       [ 3.7]])"
      ]
     },
     "execution_count": 41,
     "metadata": {},
     "output_type": "execute_result"
    }
   ],
   "source": [
    "X_train"
   ]
  },
  {
   "cell_type": "code",
   "execution_count": 42,
   "id": "4a04ba91",
   "metadata": {},
   "outputs": [
    {
     "data": {
      "text/plain": [
       "(20,)"
      ]
     },
     "execution_count": 42,
     "metadata": {},
     "output_type": "execute_result"
    }
   ],
   "source": [
    "y_train.shape"
   ]
  },
  {
   "cell_type": "code",
   "execution_count": 43,
   "id": "68743e19",
   "metadata": {},
   "outputs": [
    {
     "data": {
      "text/plain": [
       "array([[ 6. ],\n",
       "       [ 4.5],\n",
       "       [ 5.9],\n",
       "       [ 3. ],\n",
       "       [ 4. ],\n",
       "       [ 8.2],\n",
       "       [ 8.7],\n",
       "       [10.3],\n",
       "       [ 7.9],\n",
       "       [ 3.9],\n",
       "       [ 9.5],\n",
       "       [10.5],\n",
       "       [ 3.2],\n",
       "       [ 9. ],\n",
       "       [ 5.1],\n",
       "       [ 5.3],\n",
       "       [ 1.1],\n",
       "       [ 4.9],\n",
       "       [ 2.2],\n",
       "       [ 3.7]])"
      ]
     },
     "execution_count": 43,
     "metadata": {},
     "output_type": "execute_result"
    }
   ],
   "source": [
    "X_train"
   ]
  },
  {
   "cell_type": "code",
   "execution_count": 44,
   "id": "a908b4a3",
   "metadata": {},
   "outputs": [
    {
     "data": {
      "text/plain": [
       "(20, 1)"
      ]
     },
     "execution_count": 44,
     "metadata": {},
     "output_type": "execute_result"
    }
   ],
   "source": [
    "X_train.shape"
   ]
  },
  {
   "cell_type": "code",
   "execution_count": 45,
   "id": "5829a5cb",
   "metadata": {},
   "outputs": [
    {
     "data": {
      "text/plain": [
       "(20,)"
      ]
     },
     "execution_count": 45,
     "metadata": {},
     "output_type": "execute_result"
    }
   ],
   "source": [
    "X_train_1 = X_train.flatten() # convert any dimension to normal values \n",
    "X_train_1.shape\n"
   ]
  },
  {
   "cell_type": "code",
   "execution_count": 46,
   "id": "f074200b",
   "metadata": {
    "scrolled": true
   },
   "outputs": [],
   "source": [
    "train_data_comparision = pd.DataFrame({'X_train':X_train_1, 'y_train_Actual': y_train , 'y_train_predictions': y_train_predictions})\n"
   ]
  },
  {
   "cell_type": "code",
   "execution_count": 47,
   "id": "88ee1b80",
   "metadata": {},
   "outputs": [
    {
     "data": {
      "text/plain": [
       "82717.65114307785"
      ]
     },
     "execution_count": 47,
     "metadata": {},
     "output_type": "execute_result"
    }
   ],
   "source": [
    "y = 9514.52350354 * 6.0 + 25630.510121837848\n",
    "y"
   ]
  },
  {
   "cell_type": "code",
   "execution_count": 48,
   "id": "a3978175",
   "metadata": {},
   "outputs": [
    {
     "data": {
      "text/html": [
       "<div>\n",
       "<style scoped>\n",
       "    .dataframe tbody tr th:only-of-type {\n",
       "        vertical-align: middle;\n",
       "    }\n",
       "\n",
       "    .dataframe tbody tr th {\n",
       "        vertical-align: top;\n",
       "    }\n",
       "\n",
       "    .dataframe thead th {\n",
       "        text-align: right;\n",
       "    }\n",
       "</style>\n",
       "<table border=\"1\" class=\"dataframe\">\n",
       "  <thead>\n",
       "    <tr style=\"text-align: right;\">\n",
       "      <th></th>\n",
       "      <th>X_train</th>\n",
       "      <th>y_train_Actual</th>\n",
       "      <th>y_train_predictions</th>\n",
       "    </tr>\n",
       "  </thead>\n",
       "  <tbody>\n",
       "    <tr>\n",
       "      <th>19</th>\n",
       "      <td>6.0</td>\n",
       "      <td>93940.0</td>\n",
       "      <td>82717.651143</td>\n",
       "    </tr>\n",
       "    <tr>\n",
       "      <th>14</th>\n",
       "      <td>4.5</td>\n",
       "      <td>61111.0</td>\n",
       "      <td>68445.865888</td>\n",
       "    </tr>\n",
       "    <tr>\n",
       "      <th>18</th>\n",
       "      <td>5.9</td>\n",
       "      <td>81363.0</td>\n",
       "      <td>81766.198793</td>\n",
       "    </tr>\n",
       "    <tr>\n",
       "      <th>6</th>\n",
       "      <td>3.0</td>\n",
       "      <td>60150.0</td>\n",
       "      <td>54174.080632</td>\n",
       "    </tr>\n",
       "    <tr>\n",
       "      <th>11</th>\n",
       "      <td>4.0</td>\n",
       "      <td>55794.0</td>\n",
       "      <td>63688.604136</td>\n",
       "    </tr>\n",
       "    <tr>\n",
       "      <th>23</th>\n",
       "      <td>8.2</td>\n",
       "      <td>113812.0</td>\n",
       "      <td>103649.602851</td>\n",
       "    </tr>\n",
       "    <tr>\n",
       "      <th>24</th>\n",
       "      <td>8.7</td>\n",
       "      <td>109431.0</td>\n",
       "      <td>108406.864603</td>\n",
       "    </tr>\n",
       "    <tr>\n",
       "      <th>28</th>\n",
       "      <td>10.3</td>\n",
       "      <td>122391.0</td>\n",
       "      <td>123630.102208</td>\n",
       "    </tr>\n",
       "    <tr>\n",
       "      <th>22</th>\n",
       "      <td>7.9</td>\n",
       "      <td>101302.0</td>\n",
       "      <td>100795.245800</td>\n",
       "    </tr>\n",
       "    <tr>\n",
       "      <th>10</th>\n",
       "      <td>3.9</td>\n",
       "      <td>63218.0</td>\n",
       "      <td>62737.151786</td>\n",
       "    </tr>\n",
       "    <tr>\n",
       "      <th>26</th>\n",
       "      <td>9.5</td>\n",
       "      <td>116969.0</td>\n",
       "      <td>116018.483405</td>\n",
       "    </tr>\n",
       "    <tr>\n",
       "      <th>29</th>\n",
       "      <td>10.5</td>\n",
       "      <td>121872.0</td>\n",
       "      <td>125533.006909</td>\n",
       "    </tr>\n",
       "    <tr>\n",
       "      <th>8</th>\n",
       "      <td>3.2</td>\n",
       "      <td>64445.0</td>\n",
       "      <td>56076.985333</td>\n",
       "    </tr>\n",
       "    <tr>\n",
       "      <th>25</th>\n",
       "      <td>9.0</td>\n",
       "      <td>105582.0</td>\n",
       "      <td>111261.221654</td>\n",
       "    </tr>\n",
       "    <tr>\n",
       "      <th>16</th>\n",
       "      <td>5.1</td>\n",
       "      <td>66029.0</td>\n",
       "      <td>74154.579990</td>\n",
       "    </tr>\n",
       "    <tr>\n",
       "      <th>17</th>\n",
       "      <td>5.3</td>\n",
       "      <td>83088.0</td>\n",
       "      <td>76057.484691</td>\n",
       "    </tr>\n",
       "    <tr>\n",
       "      <th>0</th>\n",
       "      <td>1.1</td>\n",
       "      <td>39343.0</td>\n",
       "      <td>36096.485976</td>\n",
       "    </tr>\n",
       "    <tr>\n",
       "      <th>15</th>\n",
       "      <td>4.9</td>\n",
       "      <td>67938.0</td>\n",
       "      <td>72251.675289</td>\n",
       "    </tr>\n",
       "    <tr>\n",
       "      <th>4</th>\n",
       "      <td>2.2</td>\n",
       "      <td>39891.0</td>\n",
       "      <td>46562.461830</td>\n",
       "    </tr>\n",
       "    <tr>\n",
       "      <th>9</th>\n",
       "      <td>3.7</td>\n",
       "      <td>57189.0</td>\n",
       "      <td>60834.247085</td>\n",
       "    </tr>\n",
       "  </tbody>\n",
       "</table>\n",
       "</div>"
      ],
      "text/plain": [
       "    X_train  y_train_Actual  y_train_predictions\n",
       "19      6.0         93940.0         82717.651143\n",
       "14      4.5         61111.0         68445.865888\n",
       "18      5.9         81363.0         81766.198793\n",
       "6       3.0         60150.0         54174.080632\n",
       "11      4.0         55794.0         63688.604136\n",
       "23      8.2        113812.0        103649.602851\n",
       "24      8.7        109431.0        108406.864603\n",
       "28     10.3        122391.0        123630.102208\n",
       "22      7.9        101302.0        100795.245800\n",
       "10      3.9         63218.0         62737.151786\n",
       "26      9.5        116969.0        116018.483405\n",
       "29     10.5        121872.0        125533.006909\n",
       "8       3.2         64445.0         56076.985333\n",
       "25      9.0        105582.0        111261.221654\n",
       "16      5.1         66029.0         74154.579990\n",
       "17      5.3         83088.0         76057.484691\n",
       "0       1.1         39343.0         36096.485976\n",
       "15      4.9         67938.0         72251.675289\n",
       "4       2.2         39891.0         46562.461830\n",
       "9       3.7         57189.0         60834.247085"
      ]
     },
     "execution_count": 48,
     "metadata": {},
     "output_type": "execute_result"
    }
   ],
   "source": [
    "train_data_comparision"
   ]
  },
  {
   "cell_type": "code",
   "execution_count": 49,
   "id": "2b627ab0",
   "metadata": {},
   "outputs": [],
   "source": [
    "# Difference between Actual and prediction is called residual \n",
    "\n",
    "# Residual formula = (y - y_pred)**2 "
   ]
  },
  {
   "cell_type": "code",
   "execution_count": 50,
   "id": "00690c87",
   "metadata": {},
   "outputs": [
    {
     "data": {
      "image/png": "[encoded data removed]",
      "text/plain": [
       "<Figure size 432x288 with 1 Axes>"
      ]
     },
     "metadata": {
      "needs_background": "light"
     },
     "output_type": "display_data"
    }
   ],
   "source": [
    "plt.title('Simple Linear Regression')\n",
    "plt.xlabel('X_train')\n",
    "plt.ylabel('y_train')\n",
    "plt.scatter(X_train, y_train , color = 'r' , marker='*')\n",
    "plt.plot(X_train , y_train_predictions,color = 'b' , marker = 'o')\n",
    "plt.show()"
   ]
  },
  {
   "cell_type": "markdown",
   "id": "2f1a0411",
   "metadata": {},
   "source": [
    "## Finding the accuracy for training data "
   ]
  },
  {
   "cell_type": "code",
   "execution_count": 51,
   "id": "ba42d882",
   "metadata": {},
   "outputs": [],
   "source": [
    "from sklearn.metrics import r2_score"
   ]
  },
  {
   "cell_type": "code",
   "execution_count": 55,
   "id": "fb355d66",
   "metadata": {},
   "outputs": [],
   "source": [
    "acc = r2_score(y_train , y_train_predictions)"
   ]
  },
  {
   "cell_type": "code",
   "execution_count": 57,
   "id": "93e08bb2",
   "metadata": {},
   "outputs": [
    {
     "data": {
      "text/plain": [
       "0.9504480256569947"
      ]
     },
     "execution_count": 57,
     "metadata": {},
     "output_type": "execute_result"
    }
   ],
   "source": [
    "acc"
   ]
  },
  {
   "cell_type": "code",
   "execution_count": 56,
   "id": "f1be5343",
   "metadata": {},
   "outputs": [
    {
     "data": {
      "text/plain": [
       "0.04955197434300529"
      ]
     },
     "execution_count": 56,
     "metadata": {},
     "output_type": "execute_result"
    }
   ],
   "source": [
    "1 - acc"
   ]
  },
  {
   "cell_type": "markdown",
   "id": "95c27e83",
   "metadata": {},
   "source": [
    "### Test data "
   ]
  },
  {
   "cell_type": "code",
   "execution_count": 59,
   "id": "ebf5340c",
   "metadata": {},
   "outputs": [],
   "source": [
    "y_test_pred = reg.predict(X_test)\n"
   ]
  },
  {
   "cell_type": "code",
   "execution_count": 60,
   "id": "518060d0",
   "metadata": {},
   "outputs": [],
   "source": [
    "acc2 = r2_score(y_test , y_test_pred)\n"
   ]
  },
  {
   "cell_type": "code",
   "execution_count": 61,
   "id": "5100f9ad",
   "metadata": {},
   "outputs": [
    {
     "data": {
      "text/plain": [
       "0.9602319713033926"
      ]
     },
     "execution_count": 61,
     "metadata": {},
     "output_type": "execute_result"
    }
   ],
   "source": [
    "acc2"
   ]
  },
  {
   "cell_type": "code",
   "execution_count": 62,
   "id": "580f5bee",
   "metadata": {},
   "outputs": [
    {
     "data": {
      "text/plain": [
       "0.03976802869660745"
      ]
     },
     "execution_count": 62,
     "metadata": {},
     "output_type": "execute_result"
    }
   ],
   "source": [
    "1 - acc2"
   ]
  },
  {
   "cell_type": "code",
   "execution_count": 63,
   "id": "7a588dbf",
   "metadata": {},
   "outputs": [
    {
     "data": {
      "text/plain": [
       "1.0"
      ]
     },
     "execution_count": 63,
     "metadata": {},
     "output_type": "execute_result"
    }
   ],
   "source": [
    "0.9602319713033926 + 0.03976802869660745"
   ]
  },
  {
   "cell_type": "code",
   "execution_count": 64,
   "id": "028842e8",
   "metadata": {},
   "outputs": [],
   "source": [
    "## using loss function / CF and Gradient descent will implement "
   ]
  },
  {
   "cell_type": "code",
   "execution_count": 65,
   "id": "94e037ad",
   "metadata": {},
   "outputs": [],
   "source": [
    "from sklearn.metrics import mean_squared_error"
   ]
  },
  {
   "cell_type": "code",
   "execution_count": 66,
   "id": "579f1205",
   "metadata": {},
   "outputs": [
    {
     "data": {
      "text/plain": [
       "23682098.20808692"
      ]
     },
     "execution_count": 66,
     "metadata": {},
     "output_type": "execute_result"
    }
   ],
   "source": [
    "mean_squared_error(y_test , y_test_pred)"
   ]
  },
  {
   "cell_type": "code",
   "execution_count": 67,
   "id": "1163d3e8",
   "metadata": {},
   "outputs": [],
   "source": [
    "# gradient \n"
   ]
  },
  {
   "cell_type": "code",
   "execution_count": 174,
   "id": "416b3f60",
   "metadata": {},
   "outputs": [],
   "source": [
    "def gra(x1,y1):\n",
    "    # slope and intercept \n",
    "    m = c = 0\n",
    "    n = len(x1)\n",
    "    lr = 0.01\n",
    "    plt.scatter(x1,y1,color='red',marker='+',linewidth=5)\n",
    "    # Model\n",
    "    for i in range(1000):    \n",
    "        y_predictions = m * x1 + c\n",
    "        cost_fun = (1/n) * sum([k**2 for k in (y1 - y_predictions)])\n",
    "        acc = r2_score(y1,y_predictions)\n",
    "        plt.plot(x1,y_predictions,color='red',linewidth=1)\n",
    "        #print('m = ',m,'c = ',c , 'itera = ',i , 'cost fun = ',cost_fun , 'acc=',acc)\n",
    "        print('cost fun = ',cost_fun , 'acc=',acc)\n",
    "        # loss function / cost function\n",
    "        # formula MSE = 1/n * (y - mx+c)**2\n",
    "        # derivative m = -(2/n)*sum(x*(y-y_predicted))\n",
    "        # derivative c = -(2/n)*sum(y-y_predicted)\n",
    "        md = -(2/n)*sum(x1*(y1-y_predictions))\n",
    "        cd = -(2/n)*sum(y1-y_predictions)\n",
    "\n",
    "        # update step_size = md * lr , cd * lr \n",
    "        # update slop  and c\n",
    "        m = m - md * lr\n",
    "        c = c - cd * lr"
   ]
  },
  {
   "cell_type": "code",
   "execution_count": 175,
   "id": "bc1e5a87",
   "metadata": {},
   "outputs": [],
   "source": [
    "X_test = X_test.flatten()"
   ]
  },
  {
   "cell_type": "code",
   "execution_count": 176,
   "id": "c6079a5a",
   "metadata": {
    "scrolled": true
   },
   "outputs": [
    {
     "name": "stdout",
     "output_type": "stream",
     "text": [
      "cost fun =  4888795700.8 acc= -7.2094823698888355\n",
      "cost fun =  1304255581.750475 acc= -1.190163766192459\n",
      "cost fun =  446324916.9336214 acc= 0.2505114222283674\n",
      "cost fun =  240047895.2504356 acc= 0.5969009374507317\n",
      "cost fun =  189524559.6866 acc= 0.6817419612864002\n",
      "cost fun =  176238177.09189832 acc= 0.7040530436768859\n",
      "cost fun =  171863947.06266728 acc= 0.7113984445699799\n",
      "cost fun =  169632307.02714273 acc= 0.715145913404601\n",
      "cost fun =  167925245.79041517 acc= 0.7180124862754906\n",
      "cost fun =  166355938.04434454 acc= 0.720647737380827\n",
      "cost fun =  164831804.625219 acc= 0.7232071297546221\n",
      "cost fun =  163330590.50273415 acc= 0.7257280350299131\n",
      "cost fun =  161846848.98267233 acc= 0.7282195995369811\n",
      "cost fun =  160379151.79405126 acc= 0.7306842216917478\n",
      "cost fun =  158927032.37584037 acc= 0.7331226849641699\n",
      "cost fun =  157490255.3299393 acc= 0.7355353846451681\n",
      "cost fun =  156068641.81165025 acc= 0.737922621058684\n",
      "cost fun =  154662027.78544182 acc= 0.7402846696604505\n",
      "cost fun =  153270254.03472555 acc= 0.7426217978140179\n",
      "cost fun =  151893163.76076275 acc= 0.7449342688227764\n",
      "cost fun =  150530601.995462 acc= 0.7472223429160119\n",
      "cost fun =  149182415.44782457 acc= 0.7494862775067617\n",
      "cost fun =  147848452.4541684 acc= 0.7517263272754016\n",
      "cost fun =  146528562.95329177 acc= 0.7539427442113505\n",
      "cost fun =  145222598.46773496 acc= 0.7561357776445385\n",
      "cost fun =  143930412.08663335 acc= 0.7583056742741989\n",
      "cost fun =  142651858.4490848 acc= 0.7604526781967998\n",
      "cost fun =  141386793.72777253 acc= 0.7625770309335448\n",
      "cost fun =  140135075.61277962 acc= 0.7646789714575521\n",
      "cost fun =  138896563.29557887 acc= 0.7667587362207404\n",
      "cost fun =  137671117.45319206 acc= 0.7688165591804279\n",
      "cost fun =  136458600.23251787 acc= 0.7708526718256511\n",
      "cost fun =  135258875.23482403 acc= 0.772867303203205\n",
      "cost fun =  134071807.5004036 acc= 0.7748606799434099\n",
      "cost fun =  132897263.49339305 acc= 0.7768330262856049\n",
      "cost fun =  131735111.08675039 acc= 0.7787845641033737\n",
      "cost fun =  130585219.54739232 acc= 0.7807155129295027\n",
      "cost fun =  129447459.52148734 acc= 0.7826260899806777\n",
      "cost fun =  128321703.01990457 acc= 0.7845165101819185\n",
      "cost fun =  127207823.40381604 acc= 0.7863869861907566\n",
      "cost fun =  126105695.370451 acc= 0.788237728421157\n",
      "cost fun =  125015194.93899968 acc= 0.7900689450671893\n",
      "cost fun =  123936199.43666731 acc= 0.791880842126446\n",
      "cost fun =  122868587.48487365 acc= 0.7936736234232179\n",
      "cost fun =  121812238.98559926 acc= 0.7954474906314206\n",
      "cost fun =  120767035.10787502 acc= 0.7972026432972832\n",
      "cost fun =  119732858.27441536 acc= 0.7989392788617935\n",
      "cost fun =  118709592.14839073 acc= 0.8006575926829109\n",
      "cost fun =  117697121.62034124 acc= 0.8023577780575409\n",
      "cost fun =  116695332.79522759 acc= 0.8040400262432805\n",
      "cost fun =  115704112.97961874 acc= 0.8057045264799325\n",
      "cost fun =  114723350.66901481 acc= 0.8073514660107943\n",
      "cost fun =  113752935.53530379 acc= 0.8089810301037201\n",
      "cost fun =  112792758.41435018 acc= 0.8105934020719636\n",
      "cost fun =  111842711.29371534 acc= 0.8121887632947979\n",
      "cost fun =  110902687.30050646 acc= 0.8137672932379203\n",
      "cost fun =  109972580.68935448 acc= 0.8153291694736403\n",
      "cost fun =  109052286.83051844 acc= 0.816874567700855\n",
      "cost fun =  108141702.19811562 acc= 0.8184036617648143\n",
      "cost fun =  107240724.3584755 acc= 0.8199166236766765\n",
      "cost fun =  106349251.95861667 acc= 0.8214136236328591\n",
      "cost fun =  105467184.71484593 acc= 0.8228948300341835\n",
      "cost fun =  104594423.40147638 acc= 0.82436040950482\n",
      "cost fun =  103730869.83966607 acc= 0.8258105269110303\n",
      "cost fun =  102876426.88637316 acc= 0.8272453453797151\n",
      "cost fun =  102030998.42342818 acc= 0.8286650263167632\n",
      "cost fun =  101194489.34672165 acc= 0.8300697294252098\n",
      "cost fun =  100366805.5555054 acc= 0.8314596127232009\n",
      "cost fun =  99547853.94180702 acc= 0.8328348325617695\n",
      "cost fun =  98737542.37995607 acc= 0.8341955436424235\n",
      "cost fun =  97935779.7162206 acc= 0.8355418990345489\n",
      "cost fun =  97142475.75855285 acc= 0.8368740501926288\n",
      "cost fun =  96357541.26644371 acc= 0.8381921469732803\n",
      "cost fun =  95580887.94088365 acc= 0.8394963376521131\n",
      "cost fun =  94812428.41442984 acc= 0.8407867689404083\n",
      "cost fun =  94052076.24137777 acc= 0.8420635860016237\n",
      "cost fun =  93299745.88803715 acc= 0.843326932467722\n",
      "cost fun =  92555352.72310972 acc= 0.8445769504553293\n",
      "cost fun =  91818813.00816926 acc= 0.8458137805817215\n",
      "cost fun =  91090043.88824113 acc= 0.8470375619806436\n",
      "cost fun =  90368963.3824822 acc= 0.84824843231796\n",
      "cost fun =  89655490.37495854 acc= 0.8494465278071412\n",
      "cost fun =  88949544.60552028 acc= 0.8506319832245874\n",
      "cost fun =  88251046.66077326 acc= 0.851804931924789\n",
      "cost fun =  87559917.96514547 acc= 0.8529655058553282\n",
      "cost fun =  86876080.77204798 acc= 0.8541138355717223\n",
      "cost fun =  86199458.15512906 acc= 0.8552500502521097\n",
      "cost fun =  85529973.99962042 acc= 0.8563742777117822\n",
      "cost fun =  84867552.9937752 acc= 0.8574866444175622\n",
      "cost fun =  84212120.62039569 acc= 0.8585872755020301\n",
      "cost fun =  83563603.1484509 acc= 0.8596762947776002\n",
      "cost fun =  82921927.62478223 acc= 0.8607538247504491\n",
      "cost fun =  82287021.8658969 acc= 0.8618199866342966\n",
      "cost fun =  81658814.44984806 acc= 0.8628749003640404\n",
      "cost fun =  81037234.70819998 acc= 0.8639186846092493\n",
      "cost fun =  80422212.7180788 acc= 0.8649514567875114\n",
      "cost fun =  79813679.29430644 acc= 0.8659733330776435\n",
      "cost fun =  79211565.98161796 acc= 0.8669844284327598\n",
      "cost fun =  78615805.0469609 acc= 0.8679848565932033\n",
      "cost fun =  78026329.47187585 acc= 0.8689747300993408\n",
      "cost fun =  77443072.94495717 acc= 0.8699541603042229\n",
      "cost fun =  76865969.85439375 acc= 0.8709232573861103\n",
      "cost fun =  76294955.28058806 acc= 0.8718821303608677\n",
      "cost fun =  75729964.98885325 acc= 0.8728308870942277\n",
      "cost fun =  75170935.42218721 acc= 0.8737696343139244\n",
      "cost fun =  74617803.69412296 acc= 0.8746984776216999\n",
      "cost fun =  74070507.58165431 acc= 0.8756175215051833\n",
      "cost fun =  73528985.51823635 acc= 0.8765268693496449\n",
      "cost fun =  72993176.58685961 acc= 0.8774266234496263\n",
      "cost fun =  72463020.5131975 acc= 0.8783168850204476\n",
      "cost fun =  71938457.65882587 acc= 0.8791977542095932\n",
      "cost fun =  71419429.01451401 acc= 0.8800693301079783\n",
      "cost fun =  70905876.19358681 acc= 0.8809317107610947\n",
      "cost fun =  70397741.42535646 acc= 0.8817849931800413\n",
      "cost fun =  69894967.5486239 acc= 0.8826292733524366\n",
      "cost fun =  69397498.00524862 acc= 0.8834646462532161\n",
      "cost fun =  68905276.83378613 acc= 0.8842912058553174\n",
      "cost fun =  68418248.6631929 acc= 0.88510904514025\n",
      "cost fun =  67936358.70659761 acc= 0.8859182561085562\n",
      "cost fun =  67459552.75513768 acc= 0.8867189297901601\n",
      "cost fun =  66987777.17186189 acc= 0.8875111562546066\n",
      "cost fun =  66520978.885695726 acc= 0.888295024621196\n",
      "cost fun =  66059105.385472156 acc= 0.8890706230690069\n",
      "cost fun =  65602104.714023925 acc= 0.8898380388468163\n",
      "cost fun =  65149925.462339215 acc= 0.8905973582829155\n",
      "cost fun =  64702516.76377825 acc= 0.8913486667948196\n",
      "cost fun =  64259828.28835121 acc= 0.8920920488988777\n",
      "cost fun =  63821810.23705661 acc= 0.8928275882197799\n",
      "cost fun =  63388413.33627937 acc= 0.893555367499964\n",
      "cost fun =  62959588.83224763 acc= 0.894275468608924\n",
      "cost fun =  62535288.48554867 acc= 0.8949879725524194\n",
      "cost fun =  62115464.56570214 acc= 0.8956929594815876\n",
      "cost fun =  61700069.845790684 acc= 0.8963905087019609\n",
      "cost fun =  61289057.597147584 acc= 0.8970806986823874\n",
      "cost fun =  60882381.58409987 acc= 0.8977636070638576\n",
      "cost fun =  60479996.05876723 acc= 0.8984393106682393\n",
      "cost fun =  60081855.75591585 acc= 0.8991078855069191\n",
      "cost fun =  59687915.88786632 acc= 0.8997694067893527\n",
      "cost fun =  59298132.13945535 acc= 0.900423948931526\n",
      "cost fun =  58912460.66305068 acc= 0.901071585564326\n",
      "cost fun =  58530858.073618725 acc= 0.9017123895418235\n",
      "cost fun =  58153281.44384375 acc= 0.9023464329494694\n",
      "cost fun =  57779688.29929929 acc= 0.9029737871122026\n",
      "cost fun =  57410036.61366973 acc= 0.9035945226024745\n",
      "cost fun =  57044284.804023005 acc= 0.9042087092481874\n",
      "cost fun =  56682391.72613251 acc= 0.9048164161405495\n",
      "cost fun =  56324316.66984907 acc= 0.9054177116418476\n",
      "cost fun =  55970019.35452099 acc= 0.9060126633931365\n",
      "cost fun =  55619459.924463145 acc= 0.906601338321849\n",
      "cost fun =  55272598.944473244 acc= 0.907183802649324\n",
      "cost fun =  54929397.39539573 acc= 0.9077601218982566\n",
      "cost fun =  54589816.66973266 acc= 0.9083303609000682\n",
      "cost fun =  54253818.56730038 acc= 0.9088945838021999\n",
      "cost fun =  53921365.29093239 acc= 0.9094528540753284\n",
      "cost fun =  53592419.442227595 acc= 0.9100052345205059\n",
      "cost fun =  53266944.017343014 acc= 0.9105517872762254\n",
      "cost fun =  52944902.40283139 acc= 0.91109257382541\n",
      "cost fun =  52626258.371522374 acc= 0.9116276550023291\n",
      "cost fun =  52310976.07844709 acc= 0.9121570909994432\n",
      "cost fun =  51999020.05680615 acc= 0.912680941374173\n",
      "cost fun =  51690355.21397971 acc= 0.9131992650556011\n",
      "cost fun =  51384946.827579886 acc= 0.9137121203510996\n"
     ]
    },
    {
     "name": "stdout",
     "output_type": "stream",
     "text": [
      "cost fun =  51082760.54154471 acc= 0.9142195649528901\n",
      "cost fun =  50783762.362273425 acc= 0.9147216559445335\n",
      "cost fun =  50487918.6548024 acc= 0.915218449807351\n",
      "cost fun =  50195196.13902149 acc= 0.9157100024267782\n",
      "cost fun =  49905561.885930285 acc= 0.9161963690986519\n",
      "cost fun =  49618983.31393388 acc= 0.9166776045354298\n",
      "cost fun =  49335428.18517756 acc= 0.9171537628723461\n",
      "cost fun =  49054864.60192047 acc= 0.9176248976735006\n",
      "cost fun =  48777261.00294732 acc= 0.9180910619378848\n",
      "cost fun =  48502586.16001792 acc= 0.9185523081053432\n",
      "cost fun =  48230809.17435433 acc= 0.9190086880624728\n",
      "cost fun =  47961899.47316492 acc= 0.9194602531484602\n",
      "cost fun =  47695826.80620527 acc= 0.9199070541608562\n",
      "cost fun =  47432561.242375135 acc= 0.9203491413612906\n",
      "cost fun =  47172073.1663514 acc= 0.9207865644811263\n",
      "cost fun =  46914333.27525687 acc= 0.921219372727053\n",
      "cost fun =  46659312.575363606 acc= 0.9216476147866236\n",
      "cost fun =  46406982.37883139 acc= 0.9220713388337305\n",
      "cost fun =  46157314.30048092 acc= 0.9224905925340247\n",
      "cost fun =  45910280.25460005 acc= 0.9229054230502782\n",
      "cost fun =  45665852.45178512 acc= 0.9233158770476894\n",
      "cost fun =  45424003.39581422 acc= 0.9237220006991324\n",
      "cost fun =  45184705.88055458 acc= 0.9241238396903507\n",
      "cost fun =  44947932.986901596 acc= 0.9245214392250978\n",
      "cost fun =  44713658.07975113 acc= 0.9249148440302207\n",
      "cost fun =  44481854.805003025 acc= 0.9253040983606923\n",
      "cost fun =  44252497.086596325 acc= 0.9256892460045895\n",
      "cost fun =  44025559.12357625 acc= 0.9260703302880188\n",
      "cost fun =  43801015.38719167 acc= 0.9264473940799904\n",
      "cost fun =  43578840.61802309 acc= 0.9268204797972408\n",
      "cost fun =  43359009.82314154 acc= 0.9271896294090037\n",
      "cost fun =  43141498.27329675 acc= 0.9275548844417321\n",
      "cost fun =  42926281.50013553 acc= 0.9279162859837689\n",
      "cost fun =  42713335.2934491 acc= 0.9282738746899691\n",
      "cost fun =  42502635.69844976 acc= 0.9286276907862742\n",
      "cost fun =  42294159.01307609 acc= 0.9289777740742357\n",
      "cost fun =  42087881.78532659 acc= 0.9293241639354937\n",
      "cost fun =  41883780.81062174 acc= 0.9296668993362065\n",
      "cost fun =  41681833.12919339 acc= 0.9300060188314341\n",
      "cost fun =  41482016.02350216 acc= 0.9303415605694751\n",
      "cost fun =  41284307.015681766 acc= 0.9306735622961589\n",
      "cost fun =  41088683.865010574 acc= 0.9310020613590906\n",
      "cost fun =  40895124.56540953 acc= 0.9313270947118533\n",
      "cost fun =  40703607.34296685 acc= 0.9316486989181645\n",
      "cost fun =  40514110.6534884 acc= 0.9319669101559895\n",
      "cost fun =  40326613.18007427 acc= 0.9322817642216115\n",
      "cost fun =  40141093.83072076 acc= 0.9325932965336575\n",
      "cost fun =  39957531.735947795 acc= 0.9329015421370833\n",
      "cost fun =  39775906.24645101 acc= 0.9332065357071158\n",
      "cost fun =  39596196.9307792 acc= 0.9335083115531531\n",
      "cost fun =  39418383.57303566 acc= 0.9338069036226249\n",
      "cost fun =  39242446.17060423 acc= 0.9341023455048103\n",
      "cost fun =  39068364.93189905 acc= 0.9343946704346177\n",
      "cost fun =  38896120.274138264 acc= 0.9346839112963218\n",
      "cost fun =  38725692.82114097 acc= 0.9349701006272642\n",
      "cost fun =  38557063.40114765 acc= 0.9352532706215131\n",
      "cost fun =  38390213.04466363 acc= 0.9355334531334846\n",
      "cost fun =  38225122.98232474 acc= 0.9358106796815264\n",
      "cost fun =  38061774.642786406 acc= 0.9360849814514636\n",
      "cost fun =  37900149.65063418 acc= 0.9363563893001061\n",
      "cost fun =  37740229.82431671 acc= 0.9366249337587208\n",
      "cost fun =  37581997.17410066 acc= 0.9368906450364649\n",
      "cost fun =  37425433.90004667 acc= 0.9371535530237854\n",
      "cost fun =  37270522.39000734 acc= 0.9374136872957806\n",
      "cost fun =  37117245.21764573 acc= 0.9376710771155277\n",
      "cost fun =  36965585.14047521 acc= 0.9379257514373741\n",
      "cost fun =  36815525.097919665 acc= 0.9381777389101955\n",
      "cost fun =  36667048.20939453 acc= 0.9384270678806174\n",
      "cost fun =  36520137.77240761 acc= 0.9386737663962046\n",
      "cost fun =  36374777.26068032 acc= 0.9389178622086166\n",
      "cost fun =  36230950.32228861 acc= 0.9391593827767288\n",
      "cost fun =  36088640.77782345 acc= 0.9393983552697218\n",
      "cost fun =  35947832.61857081 acc= 0.9396348065701375\n",
      "cost fun =  35808510.00471075 acc= 0.9398687632769036\n",
      "cost fun =  35670657.26353564 acc= 0.940100251708325\n",
      "cost fun =  35534258.88768705 acc= 0.9403292979050453\n",
      "cost fun =  35399299.53341134 acc= 0.9405559276329754\n",
      "cost fun =  35265764.018833525 acc= 0.9407801663861924\n",
      "cost fun =  35133637.32224949 acc= 0.9410020393898078\n",
      "cost fun =  35002904.58043616 acc= 0.9412215716028042\n",
      "cost fun =  34873551.08697958 acc= 0.9414387877208436\n",
      "cost fun =  34745562.29062041 acc= 0.9416537121790454\n",
      "cost fun =  34618923.79361701 acc= 0.9418663691547354\n",
      "cost fun =  34493621.35012608 acc= 0.942076782570165\n",
      "cost fun =  34369640.864599764 acc= 0.9422849760952027\n",
      "cost fun =  34246968.39020022 acc= 0.9424909731499965\n",
      "cost fun =  34125590.12723073 acc= 0.9426947969076087\n",
      "cost fun =  34005492.42158308 acc= 0.9428964702966229\n",
      "cost fun =  33886661.76320201 acc= 0.9430960160037226\n",
      "cost fun =  33769084.78456497 acc= 0.9432934564762437\n",
      "cost fun =  33652748.25917883 acc= 0.9434888139247\n",
      "cost fun =  33537639.100091532 acc= 0.9436821103252808\n",
      "cost fun =  33423744.35842042 acc= 0.943873367422324\n",
      "cost fun =  33311051.22189504 acc= 0.9440626067307617\n",
      "cost fun =  33199547.013416424 acc= 0.9442498495385402\n",
      "cost fun =  33089219.189630546 acc= 0.9444351169090156\n",
      "cost fun =  32980055.33951755 acc= 0.9446184296833222\n",
      "cost fun =  32872043.182995595 acc= 0.9447998084827176\n",
      "cost fun =  32765170.569539305 acc= 0.9449792737109025\n",
      "cost fun =  32659425.476813044 acc= 0.9451568455563155\n",
      "cost fun =  32554796.009318437 acc= 0.9453325439944048\n",
      "cost fun =  32451270.397056308 acc= 0.9455063887898743\n",
      "cost fun =  32348836.994202543 acc= 0.9456783994989081\n",
      "cost fun =  32247484.277798094 acc= 0.9458485954713695\n",
      "cost fun =  32147200.84645274 acc= 0.9460169958529782\n",
      "cost fun =  32047975.419062365 acc= 0.946183619587464\n",
      "cost fun =  31949796.83354018 acc= 0.9463484854186979\n",
      "cost fun =  31852654.045560893 acc= 0.9465116118928002\n",
      "cost fun =  31756536.12731836 acc= 0.9466730173602271\n",
      "cost fun =  31661432.266296268 acc= 0.9468327199778352\n",
      "cost fun =  31567331.764051933 acc= 0.9469907377109237\n",
      "cost fun =  31474224.035012558 acc= 0.9471470883352551\n",
      "cost fun =  31382098.60528471 acc= 0.9473017894390556\n",
      "cost fun =  31290945.1114759 acc= 0.9474548584249932\n",
      "cost fun =  31200753.299528856 acc= 0.947606312512135\n",
      "cost fun =  31111513.02356812 acc= 0.9477561687378848\n",
      "cost fun =  31023214.244758446 acc= 0.9479044439598996\n",
      "cost fun =  30935847.030175783 acc= 0.9480511548579854\n",
      "cost fun =  30849401.551689804 acc= 0.9481963179359744\n",
      "cost fun =  30763868.08485821 acc= 0.9483399495235808\n",
      "cost fun =  30679237.007833004 acc= 0.9484820657782382\n",
      "cost fun =  30595498.800278004 acc= 0.9486226826869171\n",
      "cost fun =  30512644.04229771 acc= 0.9487618160679232\n",
      "cost fun =  30430663.41337802 acc= 0.948899481572677\n",
      "cost fun =  30349547.691337485 acc= 0.9490356946874741\n",
      "cost fun =  30269287.751289845 acc= 0.9491704707352279\n",
      "cost fun =  30189874.564617712 acc= 0.9493038248771927\n",
      "cost fun =  30111299.197956875 acc= 0.9494357721146696\n",
      "cost fun =  30033552.812191263 acc= 0.949566327290694\n",
      "cost fun =  29956626.661458746 acc= 0.9496955050917052\n",
      "cost fun =  29880512.09216726 acc= 0.9498233200491982\n",
      "cost fun =  29805200.542021204 acc= 0.9499497865413594\n",
      "cost fun =  29730683.539058525 acc= 0.9500749187946829\n",
      "cost fun =  29656952.700697437 acc= 0.9501987308855714\n",
      "cost fun =  29583999.732793596 acc= 0.9503212367419195\n",
      "cost fun =  29511816.42870696 acc= 0.950442450144681\n",
      "cost fun =  29440394.66837869 acc= 0.9505623847294183\n",
      "cost fun =  29369726.41741772 acc= 0.9506810539878371\n",
      "cost fun =  29299803.726196874 acc= 0.9507984712693036\n",
      "cost fun =  29230618.72895859 acc= 0.9509146497823463\n",
      "cost fun =  29162163.642930217 acc= 0.951029602596142\n",
      "cost fun =  29094430.767448384 acc= 0.9511433426419857\n",
      "cost fun =  29027412.483092744 acc= 0.9512558827147459\n",
      "cost fun =  28961101.25082891 acc= 0.9513672354743031\n",
      "cost fun =  28895489.611160327 acc= 0.9514774134469746\n",
      "cost fun =  28830570.18328923 acc= 0.9515864290269228\n",
      "cost fun =  28766335.664286133 acc= 0.9516942944775506\n",
      "cost fun =  28702778.828268588 acc= 0.9518010219328801\n",
      "cost fun =  28639892.525588132 acc= 0.9519066233989176\n",
      "cost fun =  28577669.68202609 acc= 0.9520111107550048\n",
      "cost fun =  28516103.29799777 acc= 0.9521144957551544\n",
      "cost fun =  28455186.447765052 acc= 0.9522167900293727\n",
      "cost fun =  28394912.278657332 acc= 0.9523180050849677\n",
      "cost fun =  28335274.010300536 acc= 0.9524181523078442\n",
      "cost fun =  28276264.933854617 acc= 0.9525172429637837\n",
      "cost fun =  28217878.411258526 acc= 0.9526152881997123\n",
      "cost fun =  28160107.8744838 acc= 0.9527122990449545\n",
      "cost fun =  28102946.824795544 acc= 0.952808286412474\n",
      "cost fun =  28046388.832021404 acc= 0.9529032611001009\n",
      "cost fun =  27990427.533828225 acc= 0.9529972337917472\n",
      "cost fun =  27935056.635006316 acc= 0.9530902150586079\n",
      "cost fun =  27880269.906761333 acc= 0.9531822153603504\n",
      "cost fun =  27826061.186013605 acc= 0.9532732450462912\n",
      "cost fun =  27772424.37470472 acc= 0.9533633143565603\n",
      "cost fun =  27719353.4391117 acc= 0.9534524334232525\n",
      "cost fun =  27666842.40916808 acc= 0.9535406122715682\n",
      "cost fun =  27614885.377792496 acc= 0.9536278608209399\n",
      "cost fun =  27563476.500224024 acc= 0.9537141888861492\n",
      "cost fun =  27512609.993364945 acc= 0.9537996061784303\n"
     ]
    },
    {
     "name": "stdout",
     "output_type": "stream",
     "text": [
      "cost fun =  27462280.13512978 acc= 0.9538841223065624\n",
      "cost fun =  27412481.263801932 acc= 0.953967746777951\n",
      "cost fun =  27363207.777396753 acc= 0.954050488999697\n",
      "cost fun =  27314454.13303122 acc= 0.954132358279655\n",
      "cost fun =  27266214.846300527 acc= 0.9542133638274809\n",
      "cost fun =  27218484.490661085 acc= 0.9542935147556668\n",
      "cost fun =  27171257.696820058 acc= 0.9543728200805673\n",
      "cost fun =  27124529.152131427 acc= 0.9544512887234131\n",
      "cost fun =  27078293.599998295 acc= 0.9545289295113144\n",
      "cost fun =  27032545.83928159 acc= 0.9546057511782546\n",
      "cost fun =  26987280.723714966 acc= 0.9546817623660723\n",
      "cost fun =  26942493.161325872 acc= 0.954756971625433\n",
      "cost fun =  26898178.11386281 acc= 0.9548313874167923\n",
      "cost fun =  26854330.59622848 acc= 0.9549050181113463\n",
      "cost fun =  26810945.675919082 acc= 0.9549778719919739\n",
      "cost fun =  26768018.47246938 acc= 0.9550499572541687\n",
      "cost fun =  26725544.156903744 acc= 0.9551212820069606\n",
      "cost fun =  26683517.951192852 acc= 0.9551918542738279\n",
      "cost fun =  26641935.127716325 acc= 0.9552616819936005\n",
      "cost fun =  26600791.008730754 acc= 0.9553307730213523\n",
      "cost fun =  26560080.965843555 acc= 0.9553991351292851\n",
      "cost fun =  26519800.41949237 acc= 0.9554667760076031\n",
      "cost fun =  26479944.838429887 acc= 0.9555337032653776\n",
      "cost fun =  26440509.739213943 acc= 0.9555999244314033\n",
      "cost fun =  26401490.685703445 acc= 0.9556654469550447\n",
      "cost fun =  26362883.28855912 acc= 0.9557302782070751\n",
      "cost fun =  26324683.204749852 acc= 0.9557944254805048\n",
      "cost fun =  26286886.137064118 acc= 0.9558578959914015\n",
      "cost fun =  26249487.83362648 acc= 0.9559206968797029\n",
      "cost fun =  26212484.087419454 acc= 0.9559828352100196\n",
      "cost fun =  26175870.73581012 acc= 0.9560443179724287\n",
      "cost fun =  26139643.660081986 acc= 0.9561051520832619\n",
      "cost fun =  26103798.78497149 acc= 0.956165344385882\n",
      "cost fun =  26068332.078209683 acc= 0.9562249016514538\n",
      "cost fun =  26033239.550068647 acc= 0.9562838305797052\n",
      "cost fun =  25998517.25291258 acc= 0.9563421377996814\n",
      "cost fun =  25964161.28075385 acc= 0.9563998298704895\n",
      "cost fun =  25930167.76881347 acc= 0.9564569132820381\n",
      "cost fun =  25896532.893086407 acc= 0.9565133944557654\n",
      "cost fun =  25863252.86991142 acc= 0.9565692797453634\n",
      "cost fun =  25830323.95554548 acc= 0.9566245754374911\n",
      "cost fun =  25797742.445742443 acc= 0.9566792877524829\n",
      "cost fun =  25765504.675336514 acc= 0.9567334228450475\n",
      "cost fun =  25733607.01782994 acc= 0.9567869868049605\n",
      "cost fun =  25702045.884984948 acc= 0.9568399856577501\n",
      "cost fun =  25670817.72642024 acc= 0.9568924253653736\n",
      "cost fun =  25639919.029211476 acc= 0.9569443118268893\n",
      "cost fun =  25609346.31749616 acc= 0.9569956508791196\n",
      "cost fun =  25579096.15208261 acc= 0.9570464482973076\n",
      "cost fun =  25549165.130063105 acc= 0.9570967097957664\n",
      "cost fun =  25519549.884431116 acc= 0.9571464410285231\n",
      "cost fun =  25490247.083702393 acc= 0.9571956475899531\n",
      "cost fun =  25461253.43154038 acc= 0.9572443350154113\n",
      "cost fun =  25432565.66638529 acc= 0.9572925087818531\n",
      "cost fun =  25404180.561087236 acc= 0.9573401743084518\n",
      "cost fun =  25376094.922543194 acc= 0.9573873369572073\n",
      "cost fun =  25348305.591337886 acc= 0.9574340020335499\n",
      "cost fun =  25320809.441388257 acc= 0.9574801747869366\n",
      "cost fun =  25293603.379591785 acc= 0.9575258604114424\n",
      "cost fun =  25266684.3454787 acc= 0.9575710640463437\n",
      "cost fun =  25240049.310867608 acc= 0.9576157907766968\n",
      "cost fun =  25213695.27952474 acc= 0.9576600456339103\n",
      "cost fun =  25187619.286827102 acc= 0.9577038335963104\n",
      "cost fun =  25161818.399428893 acc= 0.9577471595897015\n",
      "cost fun =  25136289.714931462 acc= 0.9577900284879198\n",
      "cost fun =  25111030.361556828 acc= 0.9578324451133824\n",
      "cost fun =  25086037.497824714 acc= 0.9578744142376288\n",
      "cost fun =  25061308.3122329 acc= 0.957915940581858\n",
      "cost fun =  25036840.022940762 acc= 0.9579570288174601\n",
      "cost fun =  25012629.877456617 acc= 0.9579976835665411\n",
      "cost fun =  24988675.15232784 acc= 0.9580379094024435\n",
      "cost fun =  24964973.15283469 acc= 0.9580777108502598\n",
      "cost fun =  24941521.212686993 acc= 0.9581170923873428\n",
      "cost fun =  24918316.693724442 acc= 0.9581560584438081\n",
      "cost fun =  24895356.985619534 acc= 0.9581946134030334\n",
      "cost fun =  24872639.50558416 acc= 0.9582327616021509\n",
      "cost fun =  24850161.69807896 acc= 0.9582705073325354\n",
      "cost fun =  24827921.034525868 acc= 0.9583078548402875\n",
      "cost fun =  24805915.013023682 acc= 0.9583448083267103\n",
      "cost fun =  24784141.158066537 acc= 0.9583813719487831\n",
      "cost fun =  24762597.02026561 acc= 0.9584175498196281\n",
      "cost fun =  24741280.17607337 acc= 0.9584533460089737\n",
      "cost fun =  24720188.22751102 acc= 0.9584887645436122\n",
      "cost fun =  24699318.801898897 acc= 0.9585238094078523\n",
      "cost fun =  24678669.55158928 acc= 0.9585584845439683\n",
      "cost fun =  24658238.153702594 acc= 0.9585927938526423\n",
      "cost fun =  24638022.30986585 acc= 0.9586267411934042\n",
      "cost fun =  24618019.745954294 acc= 0.9586603303850649\n",
      "cost fun =  24598228.211835444 acc= 0.9586935652061468\n",
      "cost fun =  24578645.481116056 acc= 0.9587264493953078\n",
      "cost fun =  24559269.350891586 acc= 0.9587589866517632\n",
      "cost fun =  24540097.641498554 acc= 0.9587911806357001\n",
      "cost fun =  24521128.19626908 acc= 0.958823034968691\n",
      "cost fun =  24502358.881288532 acc= 0.9588545532341\n",
      "cost fun =  24483787.585155334 acc= 0.958885738977486\n",
      "cost fun =  24465412.218743436 acc= 0.9589165957070019\n",
      "cost fun =  24447230.714967478 acc= 0.9589471268937894\n",
      "cost fun =  24429241.02855003 acc= 0.9589773359723688\n",
      "cost fun =  24411441.135791644 acc= 0.9590072263410258\n",
      "cost fun =  24393829.034343198 acc= 0.9590368013621939\n",
      "cost fun =  24376402.742980614 acc= 0.9590660643628324\n",
      "cost fun =  24359160.30138201 acc= 0.9590950186348005\n",
      "cost fun =  24342099.76990714 acc= 0.9591236674352281\n",
      "cost fun =  24325219.22937925 acc= 0.959152013986882\n",
      "cost fun =  24308516.780869182 acc= 0.9591800614785281\n",
      "cost fun =  24291990.545481723 acc= 0.9592078130652903\n",
      "cost fun =  24275638.66414423 acc= 0.9592352718690061\n",
      "cost fun =  24259459.297397576 acc= 0.9592624409785766\n",
      "cost fun =  24243450.625189196 acc= 0.9592893234503146\n",
      "cost fun =  24227610.84666829 acc= 0.9593159223082888\n",
      "cost fun =  24211938.179983217 acc= 0.9593422405446633\n",
      "cost fun =  24196430.86208129 acc= 0.9593682811200344\n",
      "cost fun =  24181087.148510125 acc= 0.9593940469637636\n",
      "cost fun =  24165905.31322159 acc= 0.9594195409743076\n",
      "cost fun =  24150883.648377612 acc= 0.9594447660195438\n",
      "cost fun =  24136020.464158017 acc= 0.9594697249370929\n",
      "cost fun =  24121314.088570505 acc= 0.9594944205346387\n",
      "cost fun =  24106762.867262483 acc= 0.9595188555902434\n",
      "cost fun =  24092365.16333504 acc= 0.95954303285266\n",
      "cost fun =  24078119.357158728 acc= 0.959566955041642\n",
      "cost fun =  24064023.846191455 acc= 0.9595906248482493\n",
      "cost fun =  24050077.04479815 acc= 0.9596140449351505\n",
      "cost fun =  24036277.38407238 acc= 0.9596372179369227\n",
      "cost fun =  24022623.31166001 acc= 0.9596601464603478\n",
      "cost fun =  24009113.291584272 acc= 0.9596828330847061\n",
      "cost fun =  23995745.80407329 acc= 0.9597052803620659\n",
      "cost fun =  23982519.345388968 acc= 0.9597274908175708\n",
      "cost fun =  23969432.427657858 acc= 0.9597494669497237\n",
      "cost fun =  23956483.578703716 acc= 0.9597712112306684\n",
      "cost fun =  23943671.341882057 acc= 0.9597927261064668\n",
      "cost fun =  23930994.27591607 acc= 0.9598140139973746\n",
      "cost fun =  23918450.954734787 acc= 0.9598350772981137\n",
      "cost fun =  23906039.96731232 acc= 0.959855918378141\n",
      "cost fun =  23893759.917509377 acc= 0.9598765395819157\n",
      "cost fun =  23881609.423916157 acc= 0.9598969432291621\n",
      "cost fun =  23869587.119696833 acc= 0.9599171316151316\n",
      "cost fun =  23857691.65243589 acc= 0.9599371070108603\n",
      "cost fun =  23845921.683986116 acc= 0.9599568716634244\n",
      "cost fun =  23834275.890317764 acc= 0.959976427796193\n",
      "cost fun =  23822752.96136989 acc= 0.9599957776090787\n",
      "cost fun =  23811351.60090284 acc= 0.9600149232787846\n",
      "cost fun =  23800070.526352473 acc= 0.9600338669590491\n",
      "cost fun =  23788908.468685854 acc= 0.9600526107808887\n",
      "cost fun =  23777864.172258563 acc= 0.960071156852837\n",
      "cost fun =  23766936.394673333 acc= 0.9600895072611826\n",
      "cost fun =  23756123.906640414 acc= 0.9601076640702033\n",
      "cost fun =  23745425.49183925 acc= 0.9601256293223986\n",
      "cost fun =  23734839.946781572 acc= 0.9601434050387192\n",
      "cost fun =  23724366.080676094 acc= 0.9601609932187946\n",
      "cost fun =  23714002.71529456 acc= 0.9601783958411579\n",
      "cost fun =  23703748.68483921 acc= 0.9601956148634684\n",
      "cost fun =  23693602.83581154 acc= 0.9602126522227319\n",
      "cost fun =  23683564.026882637 acc= 0.9602295098355184\n",
      "cost fun =  23673631.128764838 acc= 0.9602461895981779\n",
      "cost fun =  23663803.024084523 acc= 0.9602626933870536\n",
      "cost fun =  23654078.60725654 acc= 0.9602790230586931\n",
      "cost fun =  23644456.78435983 acc= 0.9602951804500571\n",
      "cost fun =  23634936.473014373 acc= 0.9603111673787262\n",
      "cost fun =  23625516.602259338 acc= 0.9603269856431051\n",
      "cost fun =  23616196.112432774 acc= 0.9603426370226253\n",
      "cost fun =  23606973.955052227 acc= 0.960358123277945\n",
      "cost fun =  23597849.0926969 acc= 0.960373446151147\n",
      "cost fun =  23588820.498890925 acc= 0.9603886073659351\n"
     ]
    },
    {
     "name": "stdout",
     "output_type": "stream",
     "text": [
      "cost fun =  23579887.157987937 acc= 0.9604036086278277\n",
      "cost fun =  23571048.065056704 acc= 0.9604184516243499\n",
      "cost fun =  23562302.225768223 acc= 0.960433138025223\n",
      "cost fun =  23553648.656283762 acc= 0.9604476694825527\n",
      "cost fun =  23545086.383144274 acc= 0.9604620476310143\n",
      "cost fun =  23536614.44316073 acc= 0.9604762740880377\n",
      "cost fun =  23528231.883305997 acc= 0.9604903504539882\n",
      "cost fun =  23519937.760607406 acc= 0.9605042783123474\n",
      "cost fun =  23511731.142040867 acc= 0.9605180592298906\n",
      "cost fun =  23503611.104425807 acc= 0.9605316947568636\n",
      "cost fun =  23495576.734321244 acc= 0.9605451864271569\n",
      "cost fun =  23487627.12792328 acc= 0.9605585357584782\n",
      "cost fun =  23479761.390963115 acc= 0.960571744252523\n",
      "cost fun =  23471978.63860668 acc= 0.9605848133951442\n",
      "cost fun =  23464277.9953551 acc= 0.960597744656518\n",
      "cost fun =  23456658.594945956 acc= 0.960610539491311\n",
      "cost fun =  23449119.580256183 acc= 0.9606231993388419\n",
      "cost fun =  23441660.10320541 acc= 0.9606357256232451\n",
      "cost fun =  23434279.32466059 acc= 0.9606481197536297\n",
      "cost fun =  23426976.414341755 acc= 0.9606603831242388\n",
      "cost fun =  23419750.55072841 acc= 0.9606725171146061\n",
      "cost fun =  23412600.92096721 acc= 0.9606845230897109\n",
      "cost fun =  23405526.720780667 acc= 0.9606964024001314\n",
      "cost fun =  23398527.154376257 acc= 0.9607081563821979\n",
      "cost fun =  23391601.43435749 acc= 0.9607197863581414\n",
      "cost fun =  23384748.781634815 acc= 0.9607312936362435\n",
      "cost fun =  23377968.425338224 acc= 0.9607426795109835\n",
      "cost fun =  23371259.602730516 acc= 0.9607539452631833\n",
      "cost fun =  23364621.559121456 acc= 0.9607650921601522\n",
      "cost fun =  23358053.547782954 acc= 0.9607761214558292\n",
      "cost fun =  23351554.829864882 acc= 0.9607870343909242\n",
      "cost fun =  23345124.674312174 acc= 0.9607978321930571\n",
      "cost fun =  23338762.357782472 acc= 0.9608085160768965\n",
      "cost fun =  23332467.16456476 acc= 0.9608190872442962\n",
      "cost fun =  23326238.386498928 acc= 0.9608295468844299\n",
      "cost fun =  23320075.322896004 acc= 0.9608398961739255\n",
      "cost fun =  23313977.280459337 acc= 0.9608501362769977\n",
      "cost fun =  23307943.57320681 acc= 0.9608602683455778\n",
      "cost fun =  23301973.522393294 acc= 0.9608702935194448\n",
      "cost fun =  23296066.456434697 acc= 0.9608802129263525\n",
      "cost fun =  23290221.710832182 acc= 0.9608900276821568\n",
      "cost fun =  23284438.62809738 acc= 0.9608997388909413\n",
      "cost fun =  23278716.55767859 acc= 0.9609093476451411\n",
      "cost fun =  23273054.85588752 acc= 0.9609188550256662\n",
      "cost fun =  23267452.885826904 acc= 0.9609282621020229\n",
      "cost fun =  23261910.01731877 acc= 0.9609375699324336\n",
      "cost fun =  23256425.626833618 acc= 0.960946779563957\n",
      "cost fun =  23250999.09742029 acc= 0.9609558920326047\n",
      "cost fun =  23245629.81863655 acc= 0.9609649083634584\n",
      "cost fun =  23240317.186480373 acc= 0.9609738295707848\n",
      "cost fun =  23235060.603322115 acc= 0.9609826566581504\n",
      "cost fun =  23229859.477837134 acc= 0.9609913906185337\n",
      "cost fun =  23224713.224939387 acc= 0.961000032434437\n",
      "cost fun =  23219621.26571554 acc= 0.9610085830779972\n",
      "cost fun =  23214583.0273599 acc= 0.9610170435110951\n",
      "cost fun =  23209597.94310989 acc= 0.9610254146854635\n",
      "cost fun =  23204665.452182505 acc= 0.9610336975427941\n",
      "cost fun =  23199784.999710858 acc= 0.9610418930148439\n",
      "cost fun =  23194956.036682215 acc= 0.9610500020235394\n",
      "cost fun =  23190178.019875795 acc= 0.9610580254810811\n",
      "cost fun =  23185450.411802 acc= 0.9610659642900453\n",
      "cost fun =  23180772.68064183 acc= 0.961073819343486\n",
      "cost fun =  23176144.30018699 acc= 0.9610815915250355\n",
      "cost fun =  23171564.749780722 acc= 0.9610892817090038\n",
      "cost fun =  23167033.51425934 acc= 0.9610968907604764\n",
      "cost fun =  23162550.083894208 acc= 0.9611044195354124\n",
      "cost fun =  23158113.954334322 acc= 0.9611118688807402\n",
      "cost fun =  23153724.626549773 acc= 0.961119239634453\n",
      "cost fun =  23149381.60677533 acc= 0.9611265326257032\n",
      "cost fun =  23145084.40645519 acc= 0.9611337486748955\n",
      "cost fun =  23140832.542187806 acc= 0.9611408885937792\n",
      "cost fun =  23136625.53567159 acc= 0.9611479531855394\n",
      "cost fun =  23132462.913651146 acc= 0.9611549432448874\n",
      "cost fun =  23128344.207863916 acc= 0.9611618595581507\n",
      "cost fun =  23124268.95498768 acc= 0.9611687029033604\n",
      "cost fun =  23120236.696588203 acc= 0.9611754740503397\n",
      "cost fun =  23116246.979067877 acc= 0.9611821737607895\n",
      "cost fun =  23112299.353614625 acc= 0.9611888027883752\n",
      "cost fun =  23108393.37615131 acc= 0.9611953618788107\n",
      "cost fun =  23104528.607285973 acc= 0.9612018517699424\n",
      "cost fun =  23100704.61226223 acc= 0.9612082731918327\n",
      "cost fun =  23096920.96091047 acc= 0.9612146268668412\n",
      "cost fun =  23093177.227599427 acc= 0.961220913509707\n",
      "cost fun =  23089472.991188265 acc= 0.9612271338276284\n",
      "cost fun =  23085807.834979314 acc= 0.9612332885203424\n",
      "cost fun =  23082181.346671034 acc= 0.9612393782802042\n",
      "cost fun =  23078593.118311808 acc= 0.9612454037922642\n",
      "cost fun =  23075042.746253893 acc= 0.9612513657343457\n",
      "cost fun =  23071529.83110816 acc= 0.9612572647771204\n",
      "cost fun =  23068053.977699034 acc= 0.9612631015841847\n",
      "cost fun =  23064614.79502011 acc= 0.9612688768121339\n",
      "cost fun =  23061211.89619012 acc= 0.9612745911106363\n",
      "cost fun =  23057844.898409523 acc= 0.9612802451225056\n",
      "cost fun =  23054513.422917333 acc= 0.9612858394837743\n",
      "cost fun =  23051217.09494848 acc= 0.9612913748237644\n",
      "cost fun =  23047955.543691844 acc= 0.9612968517651582\n",
      "cost fun =  23044728.40224823 acc= 0.9613022709240693\n",
      "cost fun =  23041535.307589516 acc= 0.9613076329101105\n",
      "cost fun =  23038375.90051738 acc= 0.9613129383264636\n",
      "cost fun =  23035249.825623184 acc= 0.9613181877699465\n",
      "cost fun =  23032156.7312479 acc= 0.9613233818310807\n",
      "cost fun =  23029096.269442488 acc= 0.9613285210941575\n",
      "cost fun =  23026068.095928896 acc= 0.9613336061373039\n",
      "cost fun =  23023071.870061193 acc= 0.9613386375325478\n",
      "cost fun =  23020107.254787315 acc= 0.9613436158458818\n",
      "cost fun =  23017173.916611213 acc= 0.9613485416373272\n",
      "cost fun =  23014271.52555519 acc= 0.9613534154609974\n",
      "cost fun =  23011399.755122848 acc= 0.9613582378651593\n",
      "cost fun =  23008558.282262493 acc= 0.9613630093922959\n",
      "cost fun =  23005746.787330505 acc= 0.9613677305791668\n",
      "cost fun =  23002964.95405567 acc= 0.9613724019568687\n",
      "cost fun =  23000212.469503418 acc= 0.9613770240508951\n",
      "cost fun =  22997489.024040714 acc= 0.9613815973811957\n",
      "cost fun =  22994794.31130117 acc= 0.9613861224622342\n",
      "cost fun =  22992128.028150633 acc= 0.9613905998030472\n",
      "cost fun =  22989489.874653004 acc= 0.9613950299073005\n",
      "cost fun =  22986879.554036647 acc= 0.9613994132733463\n",
      "cost fun =  22984296.772660777 acc= 0.9614037503942792\n",
      "cost fun =  22981741.239982665 acc= 0.9614080417579913\n",
      "cost fun =  22979212.66852484 acc= 0.9614122878472278\n",
      "cost fun =  22976710.77384266 acc= 0.9614164891396404\n",
      "cost fun =  22974235.27449254 acc= 0.9614206461078418\n",
      "cost fun =  22971785.892000075 acc= 0.9614247592194586\n",
      "cost fun =  22969362.35082887 acc= 0.9614288289371836\n",
      "cost fun =  22966964.3783494 acc= 0.9614328557188285\n",
      "cost fun =  22964591.704808496 acc= 0.9614368400173748\n",
      "cost fun =  22962244.063298892 acc= 0.9614407822810249\n",
      "cost fun =  22959921.189729195 acc= 0.9614446829532528\n",
      "cost fun =  22957622.822794225 acc= 0.9614485424728537\n",
      "cost fun =  22955348.703945663 acc= 0.9614523612739935\n",
      "cost fun =  22953098.57736285 acc= 0.9614561397862574\n",
      "cost fun =  22950872.189924136 acc= 0.9614598784346987\n",
      "cost fun =  22948669.291178226 acc= 0.9614635776398863\n",
      "cost fun =  22946489.633316234 acc= 0.9614672378179517\n",
      "cost fun =  22944332.97114363 acc= 0.9614708593806366\n",
      "cost fun =  22942199.062052745 acc= 0.9614744427353383\n",
      "cost fun =  22940087.66599546 acc= 0.9614779882851565\n",
      "cost fun =  22937998.54545612 acc= 0.9614814964289379\n",
      "cost fun =  22935931.465425044 acc= 0.9614849675613212\n",
      "cost fun =  22933886.193371817 acc= 0.9614884020727817\n",
      "cost fun =  22931862.499219257 acc= 0.9614918003496753\n",
      "cost fun =  22929860.155317552 acc= 0.9614951627742816\n",
      "cost fun =  22927878.936418638 acc= 0.9614984897248471\n",
      "cost fun =  22925918.619650856 acc= 0.9615017815756278\n",
      "cost fun =  22923978.98449383 acc= 0.9615050386969314\n",
      "cost fun =  22922059.812753733 acc= 0.9615082614551584\n",
      "cost fun =  22920160.888538707 acc= 0.9615114502128442\n",
      "cost fun =  22918281.99823465 acc= 0.9615146053286989\n",
      "cost fun =  22916422.930480953 acc= 0.9615177271576487\n",
      "cost fun =  22914583.47614706 acc= 0.9615208160508749\n",
      "cost fun =  22912763.428308662 acc= 0.9615238723558539\n",
      "cost fun =  22910962.582224585 acc= 0.9615268964163961\n",
      "cost fun =  22909180.735313702 acc= 0.961529888572685\n",
      "cost fun =  22907417.687132105 acc= 0.9615328491613145\n",
      "cost fun =  22905673.23935066 acc= 0.9615357785153279\n",
      "cost fun =  22903947.195732534 acc= 0.9615386769642548\n",
      "cost fun =  22902239.362111345 acc= 0.9615415448341479\n",
      "cost fun =  22900549.546369072 acc= 0.9615443824476203\n",
      "cost fun =  22898877.558414645 acc= 0.9615471901238815\n",
      "cost fun =  22897223.21016248 acc= 0.9615499681787729\n",
      "cost fun =  22895586.31551127 acc= 0.9615527169248042\n",
      "cost fun =  22893966.690323114 acc= 0.9615554366711879\n",
      "cost fun =  22892364.152402855 acc= 0.9615581277238743\n",
      "cost fun =  22890778.521477446 acc= 0.9615607903855856\n",
      "cost fun =  22889209.619175777 acc= 0.9615634249558508\n",
      "cost fun =  22887657.26900859 acc= 0.9615660317310382\n",
      "cost fun =  22886121.296348564 acc= 0.96156861100439\n",
      "cost fun =  22884601.528410763 acc= 0.9615711630660541\n",
      "cost fun =  22883097.794233143 acc= 0.9615736882031176\n",
      "cost fun =  22881609.924657334 acc= 0.9615761866996387\n",
      "cost fun =  22880137.75230964 acc= 0.961578658836679\n",
      "cost fun =  22878681.111582108 acc= 0.9615811048923344\n",
      "cost fun =  22877239.838614073 acc= 0.961583525141767\n",
      "cost fun =  22875813.77127349 acc= 0.9615859198572363\n",
      "cost fun =  22874402.74913897 acc= 0.9615882893081289\n",
      "cost fun =  22873006.613481462 acc= 0.9615906337609896\n",
      "cost fun =  22871625.20724666 acc= 0.961592953479551\n",
      "cost fun =  22870258.37503707 acc= 0.9615952487247635\n",
      "cost fun =  22868905.96309477 acc= 0.9615975197548242\n",
      "cost fun =  22867567.819283985 acc= 0.9615997668252063\n",
      "cost fun =  22866243.7930739 acc= 0.9616019901886876\n",
      "cost fun =  22864933.735521935 acc= 0.9616041900953793\n",
      "cost fun =  22863637.499256834 acc= 0.9616063667927536\n",
      "cost fun =  22862354.938462086 acc= 0.9616085205256721\n",
      "cost fun =  22861085.908859685 acc= 0.9616106515364129\n",
      "cost fun =  22859830.26769357 acc= 0.9616127600646982\n",
      "cost fun =  22858587.873714034 acc= 0.9616148463477208\n",
      "cost fun =  22857358.58716135 acc= 0.9616169106201714\n",
      "cost fun =  22856142.269750416 acc= 0.9616189531142645\n",
      "cost fun =  22854938.784654982 acc= 0.9616209740597648\n",
      "cost fun =  22853747.996492367 acc= 0.9616229736840128\n",
      "cost fun =  22852569.771308213 acc= 0.9616249522119509\n",
      "cost fun =  22851403.976561327 acc= 0.9616269098661477\n",
      "cost fun =  22850250.481108934 acc= 0.9616288468668244\n",
      "cost fun =  22849109.155191746 acc= 0.9616307634318781\n",
      "cost fun =  22847979.870419547 acc= 0.9616326597769078\n",
      "cost fun =  22846862.499756556 acc= 0.9616345361152373\n",
      "cost fun =  22845756.917507313 acc= 0.96163639265794\n",
      "cost fun =  22844662.99930246 acc= 0.9616382296138626\n",
      "cost fun =  22843580.62208468 acc= 0.9616400471896482\n",
      "cost fun =  22842509.664095 acc= 0.9616418455897602\n",
      "cost fun =  22841450.004858993 acc= 0.9616436250165041\n",
      "cost fun =  22840401.5251733 acc= 0.961645385670052\n",
      "cost fun =  22839364.10709209 acc= 0.9616471277484633\n",
      "cost fun =  22838337.633913882 acc= 0.9616488514477085\n",
      "cost fun =  22837321.99016852 acc= 0.9616505569616903\n",
      "cost fun =  22836317.06160394 acc= 0.9616522444822656\n",
      "cost fun =  22835322.735173583 acc= 0.9616539141992675\n",
      "cost fun =  22834338.899023432 acc= 0.9616555663005258\n",
      "cost fun =  22833365.442479618 acc= 0.9616572009718894\n",
      "cost fun =  22832402.25603583 acc= 0.9616588183972459\n",
      "cost fun =  22831449.231341142 acc= 0.961660418758543\n",
      "cost fun =  22830506.26118769 acc= 0.961662002235809\n",
      "cost fun =  22829573.239498686 acc= 0.9616635690071726\n",
      "cost fun =  22828650.06131648 acc= 0.9616651192488834\n",
      "cost fun =  22827736.6227907 acc= 0.9616666531353316\n",
      "cost fun =  22826832.821166642 acc= 0.9616681708390674\n",
      "cost fun =  22825938.55477369 acc= 0.9616696725308206\n",
      "cost fun =  22825053.72301386 acc= 0.9616711583795198\n",
      "cost fun =  22824178.226350423 acc= 0.9616726285523115\n",
      "cost fun =  22823311.966296867 acc= 0.9616740832145786\n",
      "cost fun =  22822454.845405698 acc= 0.9616755225299591\n",
      "cost fun =  22821606.76725749 acc= 0.9616769466603651\n",
      "cost fun =  22820767.63645008 acc= 0.9616783557659999\n",
      "cost fun =  22819937.35858776 acc= 0.9616797500053771\n",
      "cost fun =  22819115.84027073 acc= 0.9616811295353376\n",
      "cost fun =  22818302.989084687 acc= 0.9616824945110678\n",
      "cost fun =  22817498.713590104 acc= 0.9616838450861168\n",
      "cost fun =  22816702.92331229 acc= 0.9616851814124138\n",
      "cost fun =  22815915.52873107 acc= 0.9616865036402851\n",
      "cost fun =  22815136.441270664 acc= 0.9616878119184711\n",
      "cost fun =  22814365.573289838 acc= 0.9616891063941426\n",
      "cost fun =  22813602.838071942 acc= 0.9616903872129183\n",
      "cost fun =  22812848.149815198 acc= 0.9616916545188803\n",
      "cost fun =  22812101.423623037 acc= 0.9616929084545907\n",
      "cost fun =  22811362.575494662 acc= 0.9616941491611072\n",
      "cost fun =  22810631.522315376 acc= 0.9616953767779998\n",
      "cost fun =  22809908.18184739 acc= 0.9616965914433658\n",
      "cost fun =  22809192.472720563 acc= 0.9616977932938456\n",
      "cost fun =  22808484.314423162 acc= 0.961698982464638\n",
      "cost fun =  22807783.627292946 acc= 0.9617001590895154\n",
      "cost fun =  22807090.332508042 acc= 0.9617013233008391\n",
      "cost fun =  22806404.35207821 acc= 0.9617024752295736\n",
      "cost fun =  22805725.608835995 acc= 0.961703615005302\n",
      "cost fun =  22805054.026428092 acc= 0.9617047427562401\n",
      "cost fun =  22804389.52930669 acc= 0.9617058586092511\n",
      "cost fun =  22803732.042721063 acc= 0.9617069626898598\n",
      "cost fun =  22803081.49270907 acc= 0.9617080551222666\n",
      "cost fun =  22802437.80608898 acc= 0.9617091360293617\n",
      "cost fun =  22801800.910450995 acc= 0.9617102055327387\n",
      "cost fun =  22801170.73414933 acc= 0.9617112637527084\n",
      "cost fun =  22800547.20629408 acc= 0.9617123108083123\n",
      "cost fun =  22799930.256743237 acc= 0.961713346817336\n",
      "cost fun =  22799319.816094764 acc= 0.9617143718963224\n",
      "cost fun =  22798715.81567885 acc= 0.9617153861605848\n",
      "cost fun =  22798118.18755017 acc= 0.9617163897242201\n",
      "cost fun =  22797526.8644802 acc= 0.9617173827001216\n",
      "cost fun =  22796941.779949766 acc= 0.961718365199991\n",
      "cost fun =  22796362.86814134 acc= 0.961719337334352\n",
      "cost fun =  22795790.063931894 acc= 0.9617202992125623\n",
      "cost fun =  22795223.30288542 acc= 0.9617212509428255\n",
      "cost fun =  22794662.521245718 acc= 0.9617221926322038\n",
      "cost fun =  22794107.655929256 acc= 0.96172312438663\n",
      "cost fun =  22793558.644517984 acc= 0.9617240463109193\n",
      "cost fun =  22793015.425252363 acc= 0.9617249585087809\n",
      "cost fun =  22792477.937024504 acc= 0.96172586108283\n",
      "cost fun =  22791946.119371213 acc= 0.961726754134599\n",
      "cost fun =  22791419.912467062 acc= 0.9617276377645493\n",
      "cost fun =  22790899.25711794 acc= 0.9617285120720824\n",
      "cost fun =  22790384.09475415 acc= 0.9617293771555513\n",
      "cost fun =  22789874.367423963 acc= 0.9617302331122708\n",
      "cost fun =  22789370.017787002 acc= 0.9617310800385297\n",
      "cost fun =  22788870.98910792 acc= 0.9617319180296002\n",
      "cost fun =  22788377.225249812 acc= 0.9617327471797501\n",
      "cost fun =  22787888.67066815 acc= 0.9617335675822521\n",
      "cost fun =  22787405.270404343 acc= 0.9617343793293952\n",
      "cost fun =  22786926.970079605 acc= 0.9617351825124947\n",
      "cost fun =  22786453.715888876 acc= 0.9617359772219022\n",
      "cost fun =  22785985.45459479 acc= 0.9617367635470165\n",
      "cost fun =  22785522.133521598 acc= 0.961737541576293\n",
      "cost fun =  22785063.70054924 acc= 0.961738311397254\n",
      "cost fun =  22784610.10410762 acc= 0.9617390730964982\n",
      "cost fun =  22784161.293170683 acc= 0.9617398267597109\n",
      "cost fun =  22783717.21725068 acc= 0.9617405724716734\n",
      "cost fun =  22783277.826392546 acc= 0.9617413103162724\n",
      "cost fun =  22782843.07116824 acc= 0.9617420403765097\n",
      "cost fun =  22782412.902671166 acc= 0.9617427627345113\n",
      "cost fun =  22781987.272510737 acc= 0.9617434774715369\n",
      "cost fun =  22781566.132806875 acc= 0.9617441846679889\n",
      "cost fun =  22781149.436184656 acc= 0.9617448844034213\n",
      "cost fun =  22780737.13576895 acc= 0.9617455767565489\n",
      "cost fun =  22780329.185179185 acc= 0.9617462618052561\n",
      "cost fun =  22779925.53852405 acc= 0.9617469396266055\n",
      "cost fun =  22779526.15039654 acc= 0.9617476102968467\n",
      "cost fun =  22779130.97586854 acc= 0.9617482738914248\n",
      "cost fun =  22778739.970486023 acc= 0.9617489304849891\n",
      "cost fun =  22778353.09026391 acc= 0.9617495801514013\n",
      "cost fun =  22777970.29168118 acc= 0.9617502229637437\n",
      "cost fun =  22777591.531676024 acc= 0.9617508589943278\n",
      "cost fun =  22777216.76764088 acc= 0.9617514883147018\n",
      "cost fun =  22776845.9574177 acc= 0.9617521109956597\n",
      "cost fun =  22776479.059293233 acc= 0.9617527271072481\n",
      "cost fun =  22776116.03199428 acc= 0.9617533367187747\n",
      "cost fun =  22775756.834683124 acc= 0.9617539398988161\n",
      "cost fun =  22775401.426952884 acc= 0.9617545367152254\n",
      "cost fun =  22775049.76882293 acc= 0.9617551272351396\n",
      "cost fun =  22774701.820734512 acc= 0.9617557115249877\n",
      "cost fun =  22774357.543546125 acc= 0.9617562896504979\n",
      "cost fun =  22774016.8985293 acc= 0.9617568616767045\n",
      "cost fun =  22773679.847364105 acc= 0.9617574276679564\n",
      "cost fun =  22773346.352134936 acc= 0.9617579876879228\n"
     ]
    },
    {
     "name": "stdout",
     "output_type": "stream",
     "text": [
      "cost fun =  22773016.37532619 acc= 0.9617585417996017\n",
      "cost fun =  22772689.879818037 acc= 0.9617590900653264\n",
      "cost fun =  22772366.82888227 acc= 0.9617596325467727\n",
      "cost fun =  22772047.186178166 acc= 0.9617601693049651\n",
      "cost fun =  22771730.915748466 acc= 0.961760700400285\n",
      "cost fun =  22771417.982015125 acc= 0.9617612258924766\n",
      "cost fun =  22771108.349775635 acc= 0.9617617458406533\n",
      "cost fun =  22770801.98419871 acc= 0.9617622603033056\n",
      "cost fun =  22770498.85082067 acc= 0.9617627693383063\n",
      "cost fun =  22770198.91554133 acc= 0.9617632730029179\n",
      "cost fun =  22769902.144620314 acc= 0.9617637713537988\n",
      "cost fun =  22769608.50467323 acc= 0.9617642644470095\n",
      "cost fun =  22769317.962667875 acc= 0.9617647523380192\n",
      "cost fun =  22769030.485920526 acc= 0.9617652350817119\n",
      "cost fun =  22768746.042092267 acc= 0.9617657127323923\n",
      "cost fun =  22768464.599185392 acc= 0.9617661853437927\n",
      "cost fun =  22768186.125539824 acc= 0.9617666529690778\n",
      "cost fun =  22767910.58982941 acc= 0.9617671156608522\n",
      "cost fun =  22767637.961058512 acc= 0.9617675734711647\n",
      "cost fun =  22767368.208558552 acc= 0.9617680264515158\n",
      "cost fun =  22767101.301984455 acc= 0.961768474652862\n",
      "cost fun =  22766837.211311318 acc= 0.9617689181256226\n",
      "cost fun =  22766575.906830996 acc= 0.9617693569196847\n",
      "cost fun =  22766317.359148823 acc= 0.9617697910844092\n",
      "cost fun =  22766061.539180145 acc= 0.9617702206686363\n",
      "cost fun =  22765808.418147184 acc= 0.9617706457206909\n",
      "cost fun =  22765557.967575856 acc= 0.9617710662883882\n",
      "cost fun =  22765310.15929244 acc= 0.9617714824190383\n",
      "cost fun =  22765064.96542038 acc= 0.9617718941594532\n",
      "cost fun =  22764822.358377278 acc= 0.9617723015559502\n",
      "cost fun =  22764582.3108718 acc= 0.9617727046543583\n",
      "cost fun =  22764344.795900382 acc= 0.9617731035000229\n",
      "cost fun =  22764109.786744505 acc= 0.961773498137811\n",
      "cost fun =  22763877.25696745 acc= 0.9617738886121163\n",
      "cost fun =  22763647.180411458 acc= 0.9617742749668642\n",
      "cost fun =  22763419.531194653 acc= 0.9617746572455165\n",
      "cost fun =  22763194.283708334 acc= 0.9617750354910765\n",
      "cost fun =  22762971.412613884 acc= 0.961775409746094\n",
      "cost fun =  22762750.892840054 acc= 0.9617757800526697\n",
      "cost fun =  22762532.69958008 acc= 0.9617761464524603\n",
      "cost fun =  22762316.808288924 acc= 0.9617765089866829\n",
      "cost fun =  22762103.194680505 acc= 0.9617768676961196\n",
      "cost fun =  22761891.834724933 acc= 0.9617772226211226\n",
      "cost fun =  22761682.704645902 acc= 0.9617775738016182\n",
      "cost fun =  22761475.780917883 acc= 0.9617779212771114\n",
      "cost fun =  22761271.04026356 acc= 0.9617782650866904\n",
      "cost fun =  22761068.459651235 acc= 0.9617786052690313\n",
      "cost fun =  22760868.01629216 acc= 0.9617789418624018\n",
      "cost fun =  22760669.687638022 acc= 0.961779274904666\n",
      "cost fun =  22760473.45137836 acc= 0.9617796044332887\n",
      "cost fun =  22760279.28543817 acc= 0.9617799304853393\n",
      "cost fun =  22760087.16797526 acc= 0.9617802530974959\n",
      "cost fun =  22759897.07737796 acc= 0.9617805723060501\n",
      "cost fun =  22759708.992262516 acc= 0.9617808881469102\n",
      "cost fun =  22759522.891470864 acc= 0.961781200655606\n",
      "cost fun =  22759338.75406805 acc= 0.9617815098672922\n",
      "cost fun =  22759156.559340112 acc= 0.9617818158167526\n",
      "cost fun =  22758976.286791522 acc= 0.9617821185384043\n",
      "cost fun =  22758797.91614309 acc= 0.961782418066301\n",
      "cost fun =  22758621.427329417 acc= 0.9617827144341373\n",
      "cost fun =  22758446.80049695 acc= 0.9617830076752524\n",
      "cost fun =  22758274.01600153 acc= 0.9617832978226334\n",
      "cost fun =  22758103.054406226 acc= 0.9617835849089198\n",
      "cost fun =  22757933.896479204 acc= 0.9617838689664064\n",
      "cost fun =  22757766.523191497 acc= 0.9617841500270478\n",
      "cost fun =  22757600.915714934 acc= 0.9617844281224607\n",
      "cost fun =  22757437.05541998 acc= 0.9617847032839288\n",
      "cost fun =  22757274.923873603 acc= 0.9617849755424057\n",
      "cost fun =  22757114.502837263 acc= 0.9617852449285185\n",
      "cost fun =  22756955.7742649 acc= 0.9617855114725706\n",
      "cost fun =  22756798.72030068 acc= 0.9617857752045467\n",
      "cost fun =  22756643.32327738 acc= 0.961786036154114\n",
      "cost fun =  22756489.56571397 acc= 0.9617862943506277\n",
      "cost fun =  22756337.430313937 acc= 0.9617865498231327\n",
      "cost fun =  22756186.899963267 acc= 0.9617868026003678\n",
      "cost fun =  22756037.957728412 acc= 0.9617870527107684\n",
      "cost fun =  22755890.586854555 acc= 0.9617873001824699\n",
      "cost fun =  22755744.77076365 acc= 0.9617875450433111\n",
      "cost fun =  22755600.493052524 acc= 0.9617877873208368\n",
      "cost fun =  22755457.737491 acc= 0.9617880270423014\n",
      "cost fun =  22755316.488020226 acc= 0.9617882642346717\n",
      "cost fun =  22755176.728750765 acc= 0.9617884989246299\n",
      "cost fun =  22755038.44396078 acc= 0.9617887311385768\n",
      "cost fun =  22754901.618094295 acc= 0.9617889609026348\n",
      "cost fun =  22754766.235759426 acc= 0.9617891882426504\n",
      "cost fun =  22754632.28172678 acc= 0.9617894131841978\n",
      "cost fun =  22754499.74092754 acc= 0.9617896357525809\n",
      "cost fun =  22754368.598451953 acc= 0.961789855972837\n",
      "cost fun =  22754238.83954744 acc= 0.9617900738697392\n",
      "cost fun =  22754110.44961716 acc= 0.9617902894677993\n",
      "cost fun =  22753983.41421826 acc= 0.9617905027912702\n",
      "cost fun =  22753857.71906023 acc= 0.9617907138641493\n",
      "cost fun =  22753733.350003388 acc= 0.9617909227101805\n",
      "cost fun =  22753610.293057114 acc= 0.9617911293528575\n",
      "cost fun =  22753488.534378536 acc= 0.9617913338154259\n",
      "cost fun =  22753368.060270697 acc= 0.9617915361208861\n",
      "cost fun =  22753248.85718123 acc= 0.961791736291996\n",
      "cost fun =  22753130.911700714 acc= 0.9617919343512732\n",
      "cost fun =  22753014.210561186 acc= 0.9617921303209979\n",
      "cost fun =  22752898.740634657 acc= 0.9617923242232151\n",
      "cost fun =  22752784.4889317 acc= 0.9617925160797374\n",
      "cost fun =  22752671.4425999 acc= 0.9617927059121469\n",
      "cost fun =  22752559.5889224 acc= 0.9617928937417987\n",
      "cost fun =  22752448.915316556 acc= 0.9617930795898216\n",
      "cost fun =  22752339.409332402 acc= 0.9617932634771226\n",
      "cost fun =  22752231.058651432 acc= 0.9617934454243873\n",
      "cost fun =  22752123.851084966 acc= 0.9617936254520834\n",
      "cost fun =  22752017.77457307 acc= 0.9617938035804625\n",
      "cost fun =  22751912.817182887 acc= 0.9617939798295629\n",
      "cost fun =  22751808.967107575 acc= 0.9617941542192111\n",
      "cost fun =  22751706.212664813 acc= 0.9617943267690247\n",
      "cost fun =  22751604.542295523 acc= 0.9617944974984138\n",
      "cost fun =  22751503.944562573 acc= 0.9617946664265846\n",
      "cost fun =  22751404.40814948 acc= 0.9617948335725401\n",
      "cost fun =  22751305.92185923 acc= 0.9617949989550828\n",
      "cost fun =  22751208.47461283 acc= 0.9617951625928169\n",
      "cost fun =  22751112.05544825 acc= 0.9617953245041506\n",
      "cost fun =  22751016.65351908 acc= 0.9617954847072975\n",
      "cost fun =  22750922.258093342 acc= 0.9617956432202791\n",
      "cost fun =  22750828.85855228 acc= 0.9617958000609271\n",
      "cost fun =  22750736.44438921 acc= 0.9617959552468848\n",
      "cost fun =  22750645.005208228 acc= 0.9617961087956093\n",
      "cost fun =  22750554.53072314 acc= 0.9617962607243736\n",
      "cost fun =  22750465.01075628 acc= 0.9617964110502688\n",
      "cost fun =  22750376.435237348 acc= 0.9617965597902051\n",
      "cost fun =  22750288.794202283 acc= 0.9617967069609146\n",
      "cost fun =  22750202.077792194 acc= 0.961796852578953\n",
      "cost fun =  22750116.27625209 acc= 0.9617969966607011\n",
      "cost fun =  22750031.379930016 acc= 0.961797139222367\n",
      "cost fun =  22749947.379275784 acc= 0.9617972802799878\n",
      "cost fun =  22749864.26483995 acc= 0.9617974198494313\n",
      "cost fun =  22749782.02727285 acc= 0.9617975579463981\n",
      "cost fun =  22749700.65732334 acc= 0.9617976945864228\n",
      "cost fun =  22749620.14583796 acc= 0.9617978297848767\n",
      "cost fun =  22749540.483759806 acc= 0.9617979635569682\n",
      "cost fun =  22749461.66212748 acc= 0.961798095917746\n",
      "cost fun =  22749383.672074188 acc= 0.9617982268820993\n",
      "cost fun =  22749306.50482668 acc= 0.9617983564647608\n",
      "cost fun =  22749230.151704207 acc= 0.9617984846803073\n",
      "cost fun =  22749154.604117632 acc= 0.9617986115431623\n",
      "cost fun =  22749079.85356847 acc= 0.9617987370675967\n",
      "cost fun =  22749005.891647875 acc= 0.9617988612677312\n",
      "cost fun =  22748932.710035667 acc= 0.9617989841575372\n",
      "cost fun =  22748860.300499495 acc= 0.9617991057508388\n",
      "cost fun =  22748788.654893845 acc= 0.9617992260613145\n",
      "cost fun =  22748717.76515922 acc= 0.9617993451024981\n",
      "cost fun =  22748647.623320956 acc= 0.9617994628877811\n",
      "cost fun =  22748578.221488744 acc= 0.9617995794304129\n",
      "cost fun =  22748509.551855356 acc= 0.9617996947435042\n",
      "cost fun =  22748441.606696054 acc= 0.9617998088400265\n",
      "cost fun =  22748374.378367484 acc= 0.9617999217328148\n",
      "cost fun =  22748307.85930698 acc= 0.9618000334345687\n",
      "cost fun =  22748242.042031713 acc= 0.9618001439578537\n",
      "cost fun =  22748176.919137716 acc= 0.9618002533151031\n",
      "cost fun =  22748112.48329919 acc= 0.9618003615186184\n",
      "cost fun =  22748048.727267586 acc= 0.9618004685805718\n"
     ]
    },
    {
     "name": "stdout",
     "output_type": "stream",
     "text": [
      "cost fun =  22747985.64387086 acc= 0.9618005745130068\n",
      "cost fun =  22747923.226012636 acc= 0.9618006793278402\n",
      "cost fun =  22747861.466671396 acc= 0.9618007830368627\n",
      "cost fun =  22747800.35889963 acc= 0.9618008856517407\n",
      "cost fun =  22747739.89582327 acc= 0.9618009871840177\n",
      "cost fun =  22747680.070640653 acc= 0.9618010876451154\n",
      "cost fun =  22747620.876621887 acc= 0.9618011870463347\n",
      "cost fun =  22747562.307108153 acc= 0.9618012853988573\n",
      "cost fun =  22747504.35551083 acc= 0.9618013827137475\n",
      "cost fun =  22747447.015310828 acc= 0.9618014790019522\n",
      "cost fun =  22747390.280057773 acc= 0.9618015742743031\n",
      "cost fun =  22747334.143369425 acc= 0.9618016685415177\n",
      "cost fun =  22747278.598930843 acc= 0.9618017618142002\n",
      "cost fun =  22747223.640493687 acc= 0.9618018541028431\n",
      "cost fun =  22747169.261875615 acc= 0.9618019454178283\n",
      "cost fun =  22747115.456959385 acc= 0.9618020357694277\n",
      "cost fun =  22747062.21969244 acc= 0.9618021251678054\n",
      "cost fun =  22747009.54408595 acc= 0.961802213623018\n",
      "cost fun =  22746957.424214333 acc= 0.9618023011450159\n",
      "cost fun =  22746905.854214493 acc= 0.9618023877436448\n",
      "cost fun =  22746854.828285225 acc= 0.9618024734286462\n",
      "cost fun =  22746804.340686522 acc= 0.9618025582096591\n",
      "cost fun =  22746754.385738894 acc= 0.9618026420962207\n",
      "cost fun =  22746704.957822848 acc= 0.9618027250977675\n",
      "cost fun =  22746656.051378097 acc= 0.9618028072236368\n",
      "cost fun =  22746607.660903003 acc= 0.9618028884830667\n",
      "cost fun =  22746559.78095407 acc= 0.9618029688851986\n",
      "cost fun =  22746512.40614517 acc= 0.9618030484390769\n",
      "cost fun =  22746465.53114702 acc= 0.9618031271536509\n",
      "cost fun =  22746419.150686525 acc= 0.9618032050377754\n",
      "cost fun =  22746373.259546246 acc= 0.9618032821002116\n",
      "cost fun =  22746327.852563772 acc= 0.9618033583496286\n",
      "cost fun =  22746282.924631216 acc= 0.9618034337946039\n",
      "cost fun =  22746238.47069449 acc= 0.9618035084436242\n",
      "cost fun =  22746194.4857529 acc= 0.9618035823050871\n",
      "cost fun =  22746150.964858472 acc= 0.9618036553873015\n",
      "cost fun =  22746107.903115466 acc= 0.9618037276984885\n",
      "cost fun =  22746065.29567974 acc= 0.9618037992467826\n",
      "cost fun =  22746023.137758322 acc= 0.9618038700402323\n"
     ]
    },
    {
     "data": {
      "image/png": "[encoded data removed]",
      "text/plain": [
       "<Figure size 432x288 with 1 Axes>"
      ]
     },
     "metadata": {
      "needs_background": "light"
     },
     "output_type": "display_data"
    }
   ],
   "source": [
    "\n",
    "gra(X_test,y_test)"
   ]
  },
  {
   "cell_type": "code",
   "execution_count": null,
   "id": "a283cb77",
   "metadata": {},
   "outputs": [],
   "source": []
  },
  {
   "cell_type": "code",
   "execution_count": 143,
   "id": "68b3c575",
   "metadata": {},
   "outputs": [],
   "source": [
    "yp = 1.9519701060683186e+20 * X_test + 3.3782733692195807e+19"
   ]
  },
  {
   "cell_type": "code",
   "execution_count": 145,
   "id": "f80dbfbf",
   "metadata": {},
   "outputs": [
    {
     "data": {
      "text/plain": [
       "-1.6841465543023946e+33"
      ]
     },
     "execution_count": 145,
     "metadata": {},
     "output_type": "execute_result"
    }
   ],
   "source": [
    "r2_score(y_test , yp)"
   ]
  },
  {
   "cell_type": "code",
   "execution_count": 146,
   "id": "4c0d5f2f",
   "metadata": {},
   "outputs": [
    {
     "data": {
      "text/plain": [
       "1.0029193149119548e+42"
      ]
     },
     "execution_count": 146,
     "metadata": {},
     "output_type": "execute_result"
    }
   ],
   "source": [
    "mean_squared_error(y_test , yp)"
   ]
  },
  {
   "cell_type": "code",
   "execution_count": null,
   "id": "b4ad8656",
   "metadata": {},
   "outputs": [],
   "source": []
  }
 ],
 "metadata": {
  "kernelspec": {
   "display_name": "Python 3 (ipykernel)",
   "language": "python",
   "name": "python3"
  },
  "language_info": {
   "codemirror_mode": {
    "name": "ipython",
    "version": 3
   },
   "file_extension": ".py",
   "mimetype": "text/x-python",
   "name": "python",
   "nbconvert_exporter": "python",
   "pygments_lexer": "ipython3",
   "version": "3.8.12"
  }
 },
 "nbformat": 4,
 "nbformat_minor": 5
}
